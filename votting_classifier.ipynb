{
  "cells": [
    {
      "cell_type": "markdown",
      "metadata": {
        "id": "view-in-github",
        "colab_type": "text"
      },
      "source": [
        "<a href=\"https://colab.research.google.com/github/sayakdeepghosh01/meta-learning-tweet-dataset/blob/main/votting_classifier.ipynb\" target=\"_parent\"><img src=\"https://colab.research.google.com/assets/colab-badge.svg\" alt=\"Open In Colab\"/></a>"
      ]
    },
    {
      "cell_type": "code",
      "execution_count": 2,
      "id": "9da87a91",
      "metadata": {
        "id": "9da87a91"
      },
      "outputs": [],
      "source": [
        "# -*- coding: utf-8 -*-\n",
        "\"\"\"\n",
        "use voting calssifier\n",
        "in hand soft voting and hard voting\n",
        "Created on Wed Aug  4 01:56:17 2021\n",
        "\n",
        "@author: Sayak Ghosh\n",
        "\"\"\"\n",
        "\n",
        "\n",
        "import pandas as pd\n",
        "import numpy as np\n",
        "from sklearn.metrics import classification_report\n",
        "from sklearn.model_selection import train_test_split\n",
        "from sklearn.tree import DecisionTreeClassifier\n",
        "from xgboost import XGBClassifier\n",
        "from sklearn.metrics import accuracy_score\n",
        "from sklearn.ensemble import RandomForestClassifier, BaggingClassifier, AdaBoostClassifier, VotingClassifier\n",
        "from sklearn.svm import SVC\n",
        "from sklearn.linear_model import LogisticRegression\n",
        "from sklearn.ensemble import GradientBoostingClassifier\n",
        "from sklearn.naive_bayes import GaussianNB\n",
        "from sklearn.neighbors import KNeighborsClassifier\n",
        "from sklearn.linear_model import SGDClassifier\n",
        "from sklearn import metrics\n",
        "from sklearn.neural_network import MLPClassifier\n",
        "from sklearn.linear_model import PassiveAggressiveClassifier\n",
        "from sklearn.naive_bayes import MultinomialNB"
      ]
    },
    {
      "cell_type": "code",
      "source": [
        "data = pd.read_csv(\"/content/sample_data/Constraint_Train.csv\")\n",
        "data.shape"
      ],
      "metadata": {
        "colab": {
          "base_uri": "https://localhost:8080/"
        },
        "id": "ZxJSNHWJMTI4",
        "outputId": "c93b6eaa-da38-458f-9a82-e70e5aa361d8"
      },
      "id": "ZxJSNHWJMTI4",
      "execution_count": 3,
      "outputs": [
        {
          "output_type": "execute_result",
          "data": {
            "text/plain": [
              "(6420, 3)"
            ]
          },
          "metadata": {},
          "execution_count": 3
        }
      ]
    },
    {
      "cell_type": "code",
      "source": [
        "data.head()"
      ],
      "metadata": {
        "colab": {
          "base_uri": "https://localhost:8080/",
          "height": 206
        },
        "id": "FOgDvVz9Lduh",
        "outputId": "ca403776-6fc1-4954-8c3b-8b9bdfe966eb"
      },
      "id": "FOgDvVz9Lduh",
      "execution_count": 4,
      "outputs": [
        {
          "output_type": "execute_result",
          "data": {
            "text/plain": [
              "   id                                              tweet label\n",
              "0   1  The CDC currently reports 99031 deaths. In gen...  real\n",
              "1   2  States reported 1121 deaths a small rise from ...  real\n",
              "2   3  Politically Correct Woman (Almost) Uses Pandem...  fake\n",
              "3   4  #IndiaFightsCorona: We have 1524 #COVID testin...  real\n",
              "4   5  Populous states can generate large case counts...  real"
            ],
            "text/html": [
              "\n",
              "  <div id=\"df-c3674b63-54c7-46d1-a7b8-69e400545318\" class=\"colab-df-container\">\n",
              "    <div>\n",
              "<style scoped>\n",
              "    .dataframe tbody tr th:only-of-type {\n",
              "        vertical-align: middle;\n",
              "    }\n",
              "\n",
              "    .dataframe tbody tr th {\n",
              "        vertical-align: top;\n",
              "    }\n",
              "\n",
              "    .dataframe thead th {\n",
              "        text-align: right;\n",
              "    }\n",
              "</style>\n",
              "<table border=\"1\" class=\"dataframe\">\n",
              "  <thead>\n",
              "    <tr style=\"text-align: right;\">\n",
              "      <th></th>\n",
              "      <th>id</th>\n",
              "      <th>tweet</th>\n",
              "      <th>label</th>\n",
              "    </tr>\n",
              "  </thead>\n",
              "  <tbody>\n",
              "    <tr>\n",
              "      <th>0</th>\n",
              "      <td>1</td>\n",
              "      <td>The CDC currently reports 99031 deaths. In gen...</td>\n",
              "      <td>real</td>\n",
              "    </tr>\n",
              "    <tr>\n",
              "      <th>1</th>\n",
              "      <td>2</td>\n",
              "      <td>States reported 1121 deaths a small rise from ...</td>\n",
              "      <td>real</td>\n",
              "    </tr>\n",
              "    <tr>\n",
              "      <th>2</th>\n",
              "      <td>3</td>\n",
              "      <td>Politically Correct Woman (Almost) Uses Pandem...</td>\n",
              "      <td>fake</td>\n",
              "    </tr>\n",
              "    <tr>\n",
              "      <th>3</th>\n",
              "      <td>4</td>\n",
              "      <td>#IndiaFightsCorona: We have 1524 #COVID testin...</td>\n",
              "      <td>real</td>\n",
              "    </tr>\n",
              "    <tr>\n",
              "      <th>4</th>\n",
              "      <td>5</td>\n",
              "      <td>Populous states can generate large case counts...</td>\n",
              "      <td>real</td>\n",
              "    </tr>\n",
              "  </tbody>\n",
              "</table>\n",
              "</div>\n",
              "    <div class=\"colab-df-buttons\">\n",
              "\n",
              "  <div class=\"colab-df-container\">\n",
              "    <button class=\"colab-df-convert\" onclick=\"convertToInteractive('df-c3674b63-54c7-46d1-a7b8-69e400545318')\"\n",
              "            title=\"Convert this dataframe to an interactive table.\"\n",
              "            style=\"display:none;\">\n",
              "\n",
              "  <svg xmlns=\"http://www.w3.org/2000/svg\" height=\"24px\" viewBox=\"0 -960 960 960\">\n",
              "    <path d=\"M120-120v-720h720v720H120Zm60-500h600v-160H180v160Zm220 220h160v-160H400v160Zm0 220h160v-160H400v160ZM180-400h160v-160H180v160Zm440 0h160v-160H620v160ZM180-180h160v-160H180v160Zm440 0h160v-160H620v160Z\"/>\n",
              "  </svg>\n",
              "    </button>\n",
              "\n",
              "  <style>\n",
              "    .colab-df-container {\n",
              "      display:flex;\n",
              "      gap: 12px;\n",
              "    }\n",
              "\n",
              "    .colab-df-convert {\n",
              "      background-color: #E8F0FE;\n",
              "      border: none;\n",
              "      border-radius: 50%;\n",
              "      cursor: pointer;\n",
              "      display: none;\n",
              "      fill: #1967D2;\n",
              "      height: 32px;\n",
              "      padding: 0 0 0 0;\n",
              "      width: 32px;\n",
              "    }\n",
              "\n",
              "    .colab-df-convert:hover {\n",
              "      background-color: #E2EBFA;\n",
              "      box-shadow: 0px 1px 2px rgba(60, 64, 67, 0.3), 0px 1px 3px 1px rgba(60, 64, 67, 0.15);\n",
              "      fill: #174EA6;\n",
              "    }\n",
              "\n",
              "    .colab-df-buttons div {\n",
              "      margin-bottom: 4px;\n",
              "    }\n",
              "\n",
              "    [theme=dark] .colab-df-convert {\n",
              "      background-color: #3B4455;\n",
              "      fill: #D2E3FC;\n",
              "    }\n",
              "\n",
              "    [theme=dark] .colab-df-convert:hover {\n",
              "      background-color: #434B5C;\n",
              "      box-shadow: 0px 1px 3px 1px rgba(0, 0, 0, 0.15);\n",
              "      filter: drop-shadow(0px 1px 2px rgba(0, 0, 0, 0.3));\n",
              "      fill: #FFFFFF;\n",
              "    }\n",
              "  </style>\n",
              "\n",
              "    <script>\n",
              "      const buttonEl =\n",
              "        document.querySelector('#df-c3674b63-54c7-46d1-a7b8-69e400545318 button.colab-df-convert');\n",
              "      buttonEl.style.display =\n",
              "        google.colab.kernel.accessAllowed ? 'block' : 'none';\n",
              "\n",
              "      async function convertToInteractive(key) {\n",
              "        const element = document.querySelector('#df-c3674b63-54c7-46d1-a7b8-69e400545318');\n",
              "        const dataTable =\n",
              "          await google.colab.kernel.invokeFunction('convertToInteractive',\n",
              "                                                    [key], {});\n",
              "        if (!dataTable) return;\n",
              "\n",
              "        const docLinkHtml = 'Like what you see? Visit the ' +\n",
              "          '<a target=\"_blank\" href=https://colab.research.google.com/notebooks/data_table.ipynb>data table notebook</a>'\n",
              "          + ' to learn more about interactive tables.';\n",
              "        element.innerHTML = '';\n",
              "        dataTable['output_type'] = 'display_data';\n",
              "        await google.colab.output.renderOutput(dataTable, element);\n",
              "        const docLink = document.createElement('div');\n",
              "        docLink.innerHTML = docLinkHtml;\n",
              "        element.appendChild(docLink);\n",
              "      }\n",
              "    </script>\n",
              "  </div>\n",
              "\n",
              "\n",
              "<div id=\"df-1f40f7b5-58eb-4365-8916-254c15d41a62\">\n",
              "  <button class=\"colab-df-quickchart\" onclick=\"quickchart('df-1f40f7b5-58eb-4365-8916-254c15d41a62')\"\n",
              "            title=\"Suggest charts\"\n",
              "            style=\"display:none;\">\n",
              "\n",
              "<svg xmlns=\"http://www.w3.org/2000/svg\" height=\"24px\"viewBox=\"0 0 24 24\"\n",
              "     width=\"24px\">\n",
              "    <g>\n",
              "        <path d=\"M19 3H5c-1.1 0-2 .9-2 2v14c0 1.1.9 2 2 2h14c1.1 0 2-.9 2-2V5c0-1.1-.9-2-2-2zM9 17H7v-7h2v7zm4 0h-2V7h2v10zm4 0h-2v-4h2v4z\"/>\n",
              "    </g>\n",
              "</svg>\n",
              "  </button>\n",
              "\n",
              "<style>\n",
              "  .colab-df-quickchart {\n",
              "      --bg-color: #E8F0FE;\n",
              "      --fill-color: #1967D2;\n",
              "      --hover-bg-color: #E2EBFA;\n",
              "      --hover-fill-color: #174EA6;\n",
              "      --disabled-fill-color: #AAA;\n",
              "      --disabled-bg-color: #DDD;\n",
              "  }\n",
              "\n",
              "  [theme=dark] .colab-df-quickchart {\n",
              "      --bg-color: #3B4455;\n",
              "      --fill-color: #D2E3FC;\n",
              "      --hover-bg-color: #434B5C;\n",
              "      --hover-fill-color: #FFFFFF;\n",
              "      --disabled-bg-color: #3B4455;\n",
              "      --disabled-fill-color: #666;\n",
              "  }\n",
              "\n",
              "  .colab-df-quickchart {\n",
              "    background-color: var(--bg-color);\n",
              "    border: none;\n",
              "    border-radius: 50%;\n",
              "    cursor: pointer;\n",
              "    display: none;\n",
              "    fill: var(--fill-color);\n",
              "    height: 32px;\n",
              "    padding: 0;\n",
              "    width: 32px;\n",
              "  }\n",
              "\n",
              "  .colab-df-quickchart:hover {\n",
              "    background-color: var(--hover-bg-color);\n",
              "    box-shadow: 0 1px 2px rgba(60, 64, 67, 0.3), 0 1px 3px 1px rgba(60, 64, 67, 0.15);\n",
              "    fill: var(--button-hover-fill-color);\n",
              "  }\n",
              "\n",
              "  .colab-df-quickchart-complete:disabled,\n",
              "  .colab-df-quickchart-complete:disabled:hover {\n",
              "    background-color: var(--disabled-bg-color);\n",
              "    fill: var(--disabled-fill-color);\n",
              "    box-shadow: none;\n",
              "  }\n",
              "\n",
              "  .colab-df-spinner {\n",
              "    border: 2px solid var(--fill-color);\n",
              "    border-color: transparent;\n",
              "    border-bottom-color: var(--fill-color);\n",
              "    animation:\n",
              "      spin 1s steps(1) infinite;\n",
              "  }\n",
              "\n",
              "  @keyframes spin {\n",
              "    0% {\n",
              "      border-color: transparent;\n",
              "      border-bottom-color: var(--fill-color);\n",
              "      border-left-color: var(--fill-color);\n",
              "    }\n",
              "    20% {\n",
              "      border-color: transparent;\n",
              "      border-left-color: var(--fill-color);\n",
              "      border-top-color: var(--fill-color);\n",
              "    }\n",
              "    30% {\n",
              "      border-color: transparent;\n",
              "      border-left-color: var(--fill-color);\n",
              "      border-top-color: var(--fill-color);\n",
              "      border-right-color: var(--fill-color);\n",
              "    }\n",
              "    40% {\n",
              "      border-color: transparent;\n",
              "      border-right-color: var(--fill-color);\n",
              "      border-top-color: var(--fill-color);\n",
              "    }\n",
              "    60% {\n",
              "      border-color: transparent;\n",
              "      border-right-color: var(--fill-color);\n",
              "    }\n",
              "    80% {\n",
              "      border-color: transparent;\n",
              "      border-right-color: var(--fill-color);\n",
              "      border-bottom-color: var(--fill-color);\n",
              "    }\n",
              "    90% {\n",
              "      border-color: transparent;\n",
              "      border-bottom-color: var(--fill-color);\n",
              "    }\n",
              "  }\n",
              "</style>\n",
              "\n",
              "  <script>\n",
              "    async function quickchart(key) {\n",
              "      const quickchartButtonEl =\n",
              "        document.querySelector('#' + key + ' button');\n",
              "      quickchartButtonEl.disabled = true;  // To prevent multiple clicks.\n",
              "      quickchartButtonEl.classList.add('colab-df-spinner');\n",
              "      try {\n",
              "        const charts = await google.colab.kernel.invokeFunction(\n",
              "            'suggestCharts', [key], {});\n",
              "      } catch (error) {\n",
              "        console.error('Error during call to suggestCharts:', error);\n",
              "      }\n",
              "      quickchartButtonEl.classList.remove('colab-df-spinner');\n",
              "      quickchartButtonEl.classList.add('colab-df-quickchart-complete');\n",
              "    }\n",
              "    (() => {\n",
              "      let quickchartButtonEl =\n",
              "        document.querySelector('#df-1f40f7b5-58eb-4365-8916-254c15d41a62 button');\n",
              "      quickchartButtonEl.style.display =\n",
              "        google.colab.kernel.accessAllowed ? 'block' : 'none';\n",
              "    })();\n",
              "  </script>\n",
              "</div>\n",
              "    </div>\n",
              "  </div>\n"
            ],
            "application/vnd.google.colaboratory.intrinsic+json": {
              "type": "dataframe",
              "variable_name": "data",
              "summary": "{\n  \"name\": \"data\",\n  \"rows\": 6420,\n  \"fields\": [\n    {\n      \"column\": \"id\",\n      \"properties\": {\n        \"dtype\": \"number\",\n        \"std\": 1853,\n        \"min\": 1,\n        \"max\": 6420,\n        \"num_unique_values\": 6420,\n        \"samples\": [\n          325,\n          1341,\n          6026\n        ],\n        \"semantic_type\": \"\",\n        \"description\": \"\"\n      }\n    },\n    {\n      \"column\": \"tweet\",\n      \"properties\": {\n        \"dtype\": \"string\",\n        \"num_unique_values\": 6420,\n        \"samples\": [\n          \"Canada\\u2019s top BDSM doctor says wear a mask, leash, tight leather to prevent spread of COVID-19 #cdnpoli #COVID19 https://t.co/1E7yDlIGBD https://t.co/bffEps28Iy\",\n          \"There are 3 cases considered to have recovered from COVID-19 so our total number of active cases is 23 \\u2013 all remain in quarantine facilities.\\u200b \\u200b Our total number of confirmed cases remains at 1192 which is the number we report to the World Health Organization.\",\n          \"Heard about contact tracing but not sure what it is? It\\u2019s used by health departments to prevent the spread of #COVID19. Learn more: https://t.co/J3Txu3riWr. #SlowtheSpread https://t.co/3f8aEQCTuI\"\n        ],\n        \"semantic_type\": \"\",\n        \"description\": \"\"\n      }\n    },\n    {\n      \"column\": \"label\",\n      \"properties\": {\n        \"dtype\": \"category\",\n        \"num_unique_values\": 2,\n        \"samples\": [\n          \"fake\",\n          \"real\"\n        ],\n        \"semantic_type\": \"\",\n        \"description\": \"\"\n      }\n    }\n  ]\n}"
            }
          },
          "metadata": {},
          "execution_count": 4
        }
      ]
    },
    {
      "cell_type": "code",
      "source": [
        "data['label'].unique()"
      ],
      "metadata": {
        "colab": {
          "base_uri": "https://localhost:8080/"
        },
        "id": "gTdKw04VLdrI",
        "outputId": "ee22b0de-1784-4085-ca61-6fd34471d8e9"
      },
      "id": "gTdKw04VLdrI",
      "execution_count": 6,
      "outputs": [
        {
          "output_type": "execute_result",
          "data": {
            "text/plain": [
              "array(['real', 'fake'], dtype=object)"
            ]
          },
          "metadata": {},
          "execution_count": 6
        }
      ]
    },
    {
      "cell_type": "markdown",
      "source": [
        "**Meta Learning code cell**"
      ],
      "metadata": {
        "id": "D813yv8_NbiI"
      },
      "id": "D813yv8_NbiI"
    },
    {
      "cell_type": "code",
      "source": [
        "import pandas as pd\n",
        "import numpy as np\n",
        "from sklearn.model_selection import train_test_split\n",
        "from sklearn.ensemble import RandomForestClassifier\n",
        "from sklearn.feature_extraction.text import TfidfVectorizer\n",
        "\n",
        "# Load your Twitter data\n",
        "data = pd.read_csv(\"/content/sample_data/Constraint_Train.csv\")\n"
      ],
      "metadata": {
        "id": "2GJpOdabKta7"
      },
      "id": "2GJpOdabKta7",
      "execution_count": 7,
      "outputs": []
    },
    {
      "cell_type": "code",
      "source": [
        "# Split data into features (tweets) and target labels\n",
        "X = data[\"tweet\"]\n",
        "y = data[\"label\"]\n",
        "print(X.shape)\n",
        "print(y.shape)\n"
      ],
      "metadata": {
        "colab": {
          "base_uri": "https://localhost:8080/"
        },
        "id": "mkXyZF5rKtLG",
        "outputId": "86facc30-9358-4259-a8d4-bd6d71e31ba2"
      },
      "id": "mkXyZF5rKtLG",
      "execution_count": 8,
      "outputs": [
        {
          "output_type": "stream",
          "name": "stdout",
          "text": [
            "(6420,)\n",
            "(6420,)\n"
          ]
        }
      ]
    },
    {
      "cell_type": "code",
      "source": [
        "print(X.head(3))\n",
        "print(y.head(3))"
      ],
      "metadata": {
        "colab": {
          "base_uri": "https://localhost:8080/"
        },
        "id": "M1aRtuV1KtA0",
        "outputId": "e69a2d7f-e119-45e5-cfc3-2b2fa956c5ff"
      },
      "id": "M1aRtuV1KtA0",
      "execution_count": 9,
      "outputs": [
        {
          "output_type": "stream",
          "name": "stdout",
          "text": [
            "0    The CDC currently reports 99031 deaths. In gen...\n",
            "1    States reported 1121 deaths a small rise from ...\n",
            "2    Politically Correct Woman (Almost) Uses Pandem...\n",
            "Name: tweet, dtype: object\n",
            "0    real\n",
            "1    real\n",
            "2    fake\n",
            "Name: label, dtype: object\n"
          ]
        }
      ]
    },
    {
      "cell_type": "code",
      "source": [
        "# Pre-processing: TF-IDF Vectorization\n",
        "tfidf_vectorizer = TfidfVectorizer(stop_words=\"english\", max_df=0.7)\n"
      ],
      "metadata": {
        "id": "z1PFokWLKs9Y"
      },
      "id": "z1PFokWLKs9Y",
      "execution_count": 10,
      "outputs": []
    },
    {
      "cell_type": "code",
      "source": [
        "# Split data into training and testing sets\n",
        "X_train, X_test, y_train, y_test = train_test_split(X, y, test_size=0.2, random_state=42)\n"
      ],
      "metadata": {
        "id": "r10u8zmLKs6v"
      },
      "id": "r10u8zmLKs6v",
      "execution_count": 11,
      "outputs": []
    },
    {
      "cell_type": "code",
      "source": [
        "print(\"Xtrain\"+X_train.head(2))\n",
        "print(X_train.shape)\n",
        "print(\"------------------------------\")\n",
        "print(\"Xtest\"+X_test.head(2))\n",
        "print(X_test.shape)\n",
        "print(\"------------------------------\")\n",
        "print(y_train.head(2))\n",
        "print(y_train.shape)\n",
        "print(\"------------------------------\")\n",
        "print(y_test.head(2))\n",
        "print(y_test.shape)"
      ],
      "metadata": {
        "colab": {
          "base_uri": "https://localhost:8080/"
        },
        "id": "CZUVbT8XKs4I",
        "outputId": "2afd4022-b37a-44aa-f8e2-3f69762b3803"
      },
      "id": "CZUVbT8XKs4I",
      "execution_count": 15,
      "outputs": [
        {
          "output_type": "stream",
          "name": "stdout",
          "text": [
            "6080    XtrainAnd finally deaths from the beginning to...\n",
            "2345    XtrainClinicians are feeling the psychological...\n",
            "Name: tweet, dtype: object\n",
            "(5136,)\n",
            "------------------------------\n",
            "324     XtestCanada’s top BDSM doctor says wear a mask...\n",
            "1340    XtestThere are 3 cases considered to have reco...\n",
            "Name: tweet, dtype: object\n",
            "(1284,)\n",
            "------------------------------\n",
            "6080    real\n",
            "2345    real\n",
            "Name: label, dtype: object\n",
            "(5136,)\n",
            "------------------------------\n",
            "324     fake\n",
            "1340    real\n",
            "Name: label, dtype: object\n",
            "(1284,)\n"
          ]
        }
      ]
    },
    {
      "cell_type": "code",
      "source": [
        "# Transform training and testing data using TF-IDF\n",
        "X_train_tfidf = tfidf_vectorizer.fit_transform(X_train)\n",
        "X_test_tfidf = tfidf_vectorizer.fit_transform(X_test)\n"
      ],
      "metadata": {
        "id": "Xen0nEVxNnNG"
      },
      "id": "Xen0nEVxNnNG",
      "execution_count": 16,
      "outputs": []
    },
    {
      "cell_type": "code",
      "source": [
        "print(X_train_tfidf)\n",
        "print(\"----------------------------\")\n",
        "print(X_test_tfidf)"
      ],
      "metadata": {
        "colab": {
          "base_uri": "https://localhost:8080/"
        },
        "id": "3v7m_Q8-NnJo",
        "outputId": "69c3d659-86ba-45b7-ab75-5e8f7c339340"
      },
      "id": "3v7m_Q8-NnJo",
      "execution_count": 19,
      "outputs": [
        {
          "output_type": "stream",
          "name": "stdout",
          "text": [
            "  (0, 8395)\t0.3251604084731492\n",
            "  (0, 7462)\t0.061471529694357804\n",
            "  (0, 3737)\t0.17295482640275117\n",
            "  (0, 3978)\t0.196157406451675\n",
            "  (0, 11836)\t0.21331434495793408\n",
            "  (0, 11267)\t0.20690915648861555\n",
            "  (0, 1310)\t0.27913788460940125\n",
            "  (0, 12002)\t0.17965274006195148\n",
            "  (0, 13201)\t0.14309909698898463\n",
            "  (0, 15432)\t0.39920801777842313\n",
            "  (0, 10027)\t0.21693463647667183\n",
            "  (0, 11956)\t0.26603478248088236\n",
            "  (0, 10810)\t0.3251604084731492\n",
            "  (0, 15401)\t0.16704275697438056\n",
            "  (0, 3099)\t0.24245511375161977\n",
            "  (0, 4878)\t0.2603030994331028\n",
            "  (0, 6312)\t0.2563963545211606\n",
            "  (1, 1444)\t0.46789740667852875\n",
            "  (1, 4456)\t0.1288173082204349\n",
            "  (1, 6145)\t0.46789740667852875\n",
            "  (1, 11398)\t0.46789740667852875\n",
            "  (1, 6242)\t0.3883868696473751\n",
            "  (1, 4040)\t0.4098211047220947\n",
            "  (1, 7462)\t0.08845593921969531\n",
            "  (2, 11914)\t0.3489782592148952\n",
            "  :\t:\n",
            "  (5134, 11976)\t0.28448046465887905\n",
            "  (5134, 13190)\t0.30971296478018107\n",
            "  (5134, 12968)\t0.332523321935615\n",
            "  (5134, 14882)\t0.28774306515922815\n",
            "  (5134, 10519)\t0.24075898809369822\n",
            "  (5134, 11421)\t0.29128971382159324\n",
            "  (5134, 10090)\t0.26122463043222827\n",
            "  (5134, 10035)\t0.1876046816062401\n",
            "  (5134, 7462)\t0.1364095005438132\n",
            "  (5135, 11334)\t0.3354322233675331\n",
            "  (5135, 9075)\t0.3091637940334935\n",
            "  (5135, 7354)\t0.3091637940334935\n",
            "  (5135, 12497)\t0.3091637940334935\n",
            "  (5135, 5172)\t0.27443881928826314\n",
            "  (5135, 2829)\t0.27082681769145656\n",
            "  (5135, 10570)\t0.2590727731750063\n",
            "  (5135, 6829)\t0.27082681769145656\n",
            "  (5135, 4360)\t0.1956335312861442\n",
            "  (5135, 12025)\t0.25216327247294024\n",
            "  (5135, 9398)\t0.19469774713078056\n",
            "  (5135, 1975)\t0.2828953646994538\n",
            "  (5135, 4558)\t0.09657977495969562\n",
            "  (5135, 9679)\t0.17723408004740027\n",
            "  (5135, 5319)\t0.20015645507065016\n",
            "  (5135, 3679)\t0.10493234957115417\n",
            "----------------------------\n",
            "  (0, 1311)\t0.30138712446488236\n",
            "  (0, 180)\t0.30138712446488236\n",
            "  (0, 3181)\t0.1287571107524266\n",
            "  (0, 1936)\t0.09790755772371423\n",
            "  (0, 1549)\t0.28501794047126244\n",
            "  (0, 163)\t0.09428605891324664\n",
            "  (0, 1935)\t0.08629343685003142\n",
            "  (0, 5545)\t0.19205941384477135\n",
            "  (0, 4735)\t0.20842859783839124\n",
            "  (0, 3712)\t0.30138712446488236\n",
            "  (0, 5894)\t0.30138712446488236\n",
            "  (0, 3711)\t0.30138712446488236\n",
            "  (0, 3909)\t0.2064588718166017\n",
            "  (0, 6313)\t0.21049937866929008\n",
            "  (0, 5294)\t0.1698532868217618\n",
            "  (0, 2281)\t0.21049937866929008\n",
            "  (0, 1270)\t0.30138712446488236\n",
            "  (0, 1477)\t0.30138712446488236\n",
            "  (1, 4378)\t0.22124367695817915\n",
            "  (1, 3070)\t0.14365431329806197\n",
            "  (1, 6395)\t0.17720654849983775\n",
            "  (1, 5065)\t0.15239278169372997\n",
            "  (1, 68)\t0.29924416547103494\n",
            "  (1, 5041)\t0.2013443410782141\n",
            "  (1, 1806)\t0.14534232362624003\n",
            "  :\t:\n",
            "  (1282, 163)\t0.0988291670954764\n",
            "  (1282, 1935)\t0.09045142609621282\n",
            "  (1283, 6452)\t0.2584683549966354\n",
            "  (1283, 6011)\t0.2584683549966354\n",
            "  (1283, 1951)\t0.2584683549966354\n",
            "  (1283, 3515)\t0.2584683549966354\n",
            "  (1283, 1991)\t0.2584683549966354\n",
            "  (1283, 2814)\t0.24443021031152237\n",
            "  (1283, 5718)\t0.22674423962775864\n",
            "  (1283, 1184)\t0.2027458727789325\n",
            "  (1283, 5293)\t0.19944601277297527\n",
            "  (1283, 3674)\t0.22674423962775864\n",
            "  (1283, 1931)\t0.22674423962775864\n",
            "  (1283, 1192)\t0.2104716212989831\n",
            "  (1283, 6293)\t0.22043184346269623\n",
            "  (1283, 2626)\t0.18437428910019069\n",
            "  (1283, 5588)\t0.17874750593010635\n",
            "  (1283, 3036)\t0.2104716212989831\n",
            "  (1283, 4835)\t0.15562570045360563\n",
            "  (1283, 5464)\t0.2027458727789325\n",
            "  (1283, 1540)\t0.15389422342697287\n",
            "  (1283, 3181)\t0.11042156717672605\n",
            "  (1283, 1936)\t0.08396511772531012\n",
            "  (1283, 5545)\t0.1647093612449933\n",
            "  (1283, 6313)\t0.18052339903062053\n"
          ]
        }
      ]
    },
    {
      "cell_type": "code",
      "source": [
        "X_train_tfidf"
      ],
      "metadata": {
        "colab": {
          "base_uri": "https://localhost:8080/",
          "height": 141
        },
        "id": "MTQ8QaTrOd5W",
        "outputId": "904cd00f-5f3e-4684-d1af-15adda025e19"
      },
      "id": "MTQ8QaTrOd5W",
      "execution_count": 22,
      "outputs": [
        {
          "output_type": "error",
          "ename": "AttributeError",
          "evalue": "'csr_matrix' object has no attribute 'type'",
          "traceback": [
            "\u001b[0;31m---------------------------------------------------------------------------\u001b[0m",
            "\u001b[0;31mAttributeError\u001b[0m                            Traceback (most recent call last)",
            "\u001b[0;32m<ipython-input-22-b2dd8d95b8e2>\u001b[0m in \u001b[0;36m<cell line: 1>\u001b[0;34m()\u001b[0m\n\u001b[0;32m----> 1\u001b[0;31m \u001b[0mX_train_tfidf\u001b[0m\u001b[0;34m.\u001b[0m\u001b[0mtype\u001b[0m\u001b[0;34m(\u001b[0m\u001b[0;34m)\u001b[0m\u001b[0;34m\u001b[0m\u001b[0;34m\u001b[0m\u001b[0m\n\u001b[0m",
            "\u001b[0;31mAttributeError\u001b[0m: 'csr_matrix' object has no attribute 'type'"
          ]
        }
      ]
    },
    {
      "cell_type": "code",
      "source": [
        "# Define individual base models\n",
        "model1 = RandomForestClassifier()\n",
        "model2 = RandomForestClassifier(max_depth=5)"
      ],
      "metadata": {
        "id": "r5hxbWM4NnCr"
      },
      "id": "r5hxbWM4NnCr",
      "execution_count": 23,
      "outputs": []
    },
    {
      "cell_type": "code",
      "source": [
        "\n",
        "\n",
        "# Split data into training and meta-testing sets\n",
        "X_meta_train, X_meta_test, y_meta_train, y_meta_test = train_test_split(X_train_tfidf, y_train, test_size=0.2)\n",
        "\n",
        "# Meta-learning stage\n",
        "\n",
        "# Extract additional features from text\n",
        "def extract_features(text):\n",
        "    try:\n",
        "        # Extract features like number of words, sentiment score, etc.\n",
        "        features = [len(text.split()), len(text)]  # Example features\n",
        "        return features\n",
        "    except:\n",
        "        # Handle potential errors during feature extraction\n",
        "        return [0, 0]\n",
        "\n",
        "# Extract features for meta-learning\n",
        "meta_features_train = pd.DataFrame([extract_features(tweet) for tweet in X_meta_train])\n",
        "meta_features_test = pd.DataFrame([extract_features(tweet) for tweet in X_meta_test])\n"
      ],
      "metadata": {
        "id": "iJS-gyjBNm_M"
      },
      "id": "iJS-gyjBNm_M",
      "execution_count": 25,
      "outputs": []
    },
    {
      "cell_type": "code",
      "source": [
        "y_meta_train"
      ],
      "metadata": {
        "colab": {
          "base_uri": "https://localhost:8080/"
        },
        "id": "gNF53P-jbP21",
        "outputId": "b14c789a-2a2b-41af-df19-dc5bbd329e39"
      },
      "id": "gNF53P-jbP21",
      "execution_count": 48,
      "outputs": [
        {
          "output_type": "execute_result",
          "data": {
            "text/plain": [
              "57      fake\n",
              "1185    real\n",
              "2817    real\n",
              "1378    real\n",
              "4197    real\n",
              "        ... \n",
              "5920    real\n",
              "4906    fake\n",
              "3582    real\n",
              "4704    real\n",
              "3408    real\n",
              "Name: label, Length: 4108, dtype: object"
            ]
          },
          "metadata": {},
          "execution_count": 48
        }
      ]
    },
    {
      "cell_type": "code",
      "source": [
        "\n",
        "# Ensure consistent dimensions before concatenation\n",
        "X_meta_train_dense = X_meta_train.toarray()\n",
        "meta_features_train_dense = meta_features_train.to_numpy()\n",
        "\n",
        "meta_features_train_dense_resized = np.hstack([meta_features_train_dense] * X_meta_train_dense.shape[1])\n",
        "\n",
        "X_meta_train_combined = np.concatenate([X_meta_train_dense, meta_features_train_dense_resized], axis=1)\n"
      ],
      "metadata": {
        "id": "GpiIqxhqQ-Js"
      },
      "id": "GpiIqxhqQ-Js",
      "execution_count": 26,
      "outputs": []
    },
    {
      "cell_type": "code",
      "source": [
        "X_meta_train_combined"
      ],
      "metadata": {
        "colab": {
          "base_uri": "https://localhost:8080/"
        },
        "id": "96_0wk-bQ-GV",
        "outputId": "cb8a1e34-f220-4596-fcf7-8e7753b37112"
      },
      "id": "96_0wk-bQ-GV",
      "execution_count": 27,
      "outputs": [
        {
          "output_type": "execute_result",
          "data": {
            "text/plain": [
              "array([[0., 0., 0., ..., 0., 0., 0.],\n",
              "       [0., 0., 0., ..., 0., 0., 0.],\n",
              "       [0., 0., 0., ..., 0., 0., 0.],\n",
              "       ...,\n",
              "       [0., 0., 0., ..., 0., 0., 0.],\n",
              "       [0., 0., 0., ..., 0., 0., 0.],\n",
              "       [0., 0., 0., ..., 0., 0., 0.]])"
            ]
          },
          "metadata": {},
          "execution_count": 27
        }
      ]
    },
    {
      "cell_type": "code",
      "source": [
        "\n",
        "# Similar conversion for the test set\n",
        "X_meta_test_dense = X_meta_test.toarray()\n",
        "meta_features_test_dense = meta_features_test.to_numpy()\n",
        "\n",
        "meta_features_test_dense_resized = np.hstack([meta_features_test_dense] * X_meta_test_dense.shape[1])\n",
        "\n",
        "X_meta_test_combined = np.concatenate([X_meta_test_dense, meta_features_test_dense_resized], axis=1)\n"
      ],
      "metadata": {
        "id": "Gtr3zlfnQ-Du"
      },
      "id": "Gtr3zlfnQ-Du",
      "execution_count": 28,
      "outputs": []
    },
    {
      "cell_type": "code",
      "source": [
        "X_meta_test_combined"
      ],
      "metadata": {
        "colab": {
          "base_uri": "https://localhost:8080/"
        },
        "id": "szAJL3T1Q-A7",
        "outputId": "14e0aaa7-5acd-40dd-f4fc-489600340f43"
      },
      "id": "szAJL3T1Q-A7",
      "execution_count": 29,
      "outputs": [
        {
          "output_type": "execute_result",
          "data": {
            "text/plain": [
              "array([[0., 0., 0., ..., 0., 0., 0.],\n",
              "       [0., 0., 0., ..., 0., 0., 0.],\n",
              "       [0., 0., 0., ..., 0., 0., 0.],\n",
              "       ...,\n",
              "       [0., 0., 0., ..., 0., 0., 0.],\n",
              "       [0., 0., 0., ..., 0., 0., 0.],\n",
              "       [0., 0., 0., ..., 0., 0., 0.]])"
            ]
          },
          "metadata": {},
          "execution_count": 29
        }
      ]
    },
    {
      "cell_type": "code",
      "source": [
        "\n",
        "# Train meta-model to predict best model based on combined features\n",
        "meta_model = RandomForestClassifier()\n",
        "\n"
      ],
      "metadata": {
        "id": "4k5wolhINm8a"
      },
      "id": "4k5wolhINm8a",
      "execution_count": 52,
      "outputs": []
    },
    {
      "cell_type": "code",
      "source": [
        "meta_model.fit(X_meta_train_combined, y_meta_train)"
      ],
      "metadata": {
        "colab": {
          "base_uri": "https://localhost:8080/",
          "height": 74
        },
        "id": "UIhVS2CbczDV",
        "outputId": "9ce72214-c9a3-4685-ddb0-377bffd7733c"
      },
      "id": "UIhVS2CbczDV",
      "execution_count": 53,
      "outputs": [
        {
          "output_type": "execute_result",
          "data": {
            "text/plain": [
              "RandomForestClassifier()"
            ],
            "text/html": [
              "<style>#sk-container-id-2 {color: black;background-color: white;}#sk-container-id-2 pre{padding: 0;}#sk-container-id-2 div.sk-toggleable {background-color: white;}#sk-container-id-2 label.sk-toggleable__label {cursor: pointer;display: block;width: 100%;margin-bottom: 0;padding: 0.3em;box-sizing: border-box;text-align: center;}#sk-container-id-2 label.sk-toggleable__label-arrow:before {content: \"▸\";float: left;margin-right: 0.25em;color: #696969;}#sk-container-id-2 label.sk-toggleable__label-arrow:hover:before {color: black;}#sk-container-id-2 div.sk-estimator:hover label.sk-toggleable__label-arrow:before {color: black;}#sk-container-id-2 div.sk-toggleable__content {max-height: 0;max-width: 0;overflow: hidden;text-align: left;background-color: #f0f8ff;}#sk-container-id-2 div.sk-toggleable__content pre {margin: 0.2em;color: black;border-radius: 0.25em;background-color: #f0f8ff;}#sk-container-id-2 input.sk-toggleable__control:checked~div.sk-toggleable__content {max-height: 200px;max-width: 100%;overflow: auto;}#sk-container-id-2 input.sk-toggleable__control:checked~label.sk-toggleable__label-arrow:before {content: \"▾\";}#sk-container-id-2 div.sk-estimator input.sk-toggleable__control:checked~label.sk-toggleable__label {background-color: #d4ebff;}#sk-container-id-2 div.sk-label input.sk-toggleable__control:checked~label.sk-toggleable__label {background-color: #d4ebff;}#sk-container-id-2 input.sk-hidden--visually {border: 0;clip: rect(1px 1px 1px 1px);clip: rect(1px, 1px, 1px, 1px);height: 1px;margin: -1px;overflow: hidden;padding: 0;position: absolute;width: 1px;}#sk-container-id-2 div.sk-estimator {font-family: monospace;background-color: #f0f8ff;border: 1px dotted black;border-radius: 0.25em;box-sizing: border-box;margin-bottom: 0.5em;}#sk-container-id-2 div.sk-estimator:hover {background-color: #d4ebff;}#sk-container-id-2 div.sk-parallel-item::after {content: \"\";width: 100%;border-bottom: 1px solid gray;flex-grow: 1;}#sk-container-id-2 div.sk-label:hover label.sk-toggleable__label {background-color: #d4ebff;}#sk-container-id-2 div.sk-serial::before {content: \"\";position: absolute;border-left: 1px solid gray;box-sizing: border-box;top: 0;bottom: 0;left: 50%;z-index: 0;}#sk-container-id-2 div.sk-serial {display: flex;flex-direction: column;align-items: center;background-color: white;padding-right: 0.2em;padding-left: 0.2em;position: relative;}#sk-container-id-2 div.sk-item {position: relative;z-index: 1;}#sk-container-id-2 div.sk-parallel {display: flex;align-items: stretch;justify-content: center;background-color: white;position: relative;}#sk-container-id-2 div.sk-item::before, #sk-container-id-2 div.sk-parallel-item::before {content: \"\";position: absolute;border-left: 1px solid gray;box-sizing: border-box;top: 0;bottom: 0;left: 50%;z-index: -1;}#sk-container-id-2 div.sk-parallel-item {display: flex;flex-direction: column;z-index: 1;position: relative;background-color: white;}#sk-container-id-2 div.sk-parallel-item:first-child::after {align-self: flex-end;width: 50%;}#sk-container-id-2 div.sk-parallel-item:last-child::after {align-self: flex-start;width: 50%;}#sk-container-id-2 div.sk-parallel-item:only-child::after {width: 0;}#sk-container-id-2 div.sk-dashed-wrapped {border: 1px dashed gray;margin: 0 0.4em 0.5em 0.4em;box-sizing: border-box;padding-bottom: 0.4em;background-color: white;}#sk-container-id-2 div.sk-label label {font-family: monospace;font-weight: bold;display: inline-block;line-height: 1.2em;}#sk-container-id-2 div.sk-label-container {text-align: center;}#sk-container-id-2 div.sk-container {/* jupyter's `normalize.less` sets `[hidden] { display: none; }` but bootstrap.min.css set `[hidden] { display: none !important; }` so we also need the `!important` here to be able to override the default hidden behavior on the sphinx rendered scikit-learn.org. See: https://github.com/scikit-learn/scikit-learn/issues/21755 */display: inline-block !important;position: relative;}#sk-container-id-2 div.sk-text-repr-fallback {display: none;}</style><div id=\"sk-container-id-2\" class=\"sk-top-container\"><div class=\"sk-text-repr-fallback\"><pre>RandomForestClassifier()</pre><b>In a Jupyter environment, please rerun this cell to show the HTML representation or trust the notebook. <br />On GitHub, the HTML representation is unable to render, please try loading this page with nbviewer.org.</b></div><div class=\"sk-container\" hidden><div class=\"sk-item\"><div class=\"sk-estimator sk-toggleable\"><input class=\"sk-toggleable__control sk-hidden--visually\" id=\"sk-estimator-id-2\" type=\"checkbox\" checked><label for=\"sk-estimator-id-2\" class=\"sk-toggleable__label sk-toggleable__label-arrow\">RandomForestClassifier</label><div class=\"sk-toggleable__content\"><pre>RandomForestClassifier()</pre></div></div></div></div></div>"
            ]
          },
          "metadata": {},
          "execution_count": 53
        }
      ]
    },
    {
      "cell_type": "code",
      "source": [
        "y_pred = meta_model.predict(X_meta_test_combined)"
      ],
      "metadata": {
        "id": "yFzMb-byaS83"
      },
      "id": "yFzMb-byaS83",
      "execution_count": 73,
      "outputs": []
    },
    {
      "cell_type": "code",
      "source": [
        "print(\"Accuracy:\", metrics.accuracy_score(X_meta_test_combined, y_pred))\n",
        "#print(classification_report(X_meta_test_combined, y_pred, digits=6))\n"
      ],
      "metadata": {
        "colab": {
          "base_uri": "https://localhost:8080/",
          "height": 304
        },
        "id": "ZvDo4VoxdWuA",
        "outputId": "53d9b347-7c5f-418d-d32a-712e39c0560d"
      },
      "id": "ZvDo4VoxdWuA",
      "execution_count": 61,
      "outputs": [
        {
          "output_type": "error",
          "ename": "ValueError",
          "evalue": "Classification metrics can't handle a mix of continuous-multioutput and binary targets",
          "traceback": [
            "\u001b[0;31m---------------------------------------------------------------------------\u001b[0m",
            "\u001b[0;31mValueError\u001b[0m                                Traceback (most recent call last)",
            "\u001b[0;32m<ipython-input-61-79c28244ce4b>\u001b[0m in \u001b[0;36m<cell line: 1>\u001b[0;34m()\u001b[0m\n\u001b[0;32m----> 1\u001b[0;31m \u001b[0mprint\u001b[0m\u001b[0;34m(\u001b[0m\u001b[0;34m\"Accuracy:\"\u001b[0m\u001b[0;34m,\u001b[0m \u001b[0mmetrics\u001b[0m\u001b[0;34m.\u001b[0m\u001b[0maccuracy_score\u001b[0m\u001b[0;34m(\u001b[0m\u001b[0mX_meta_test_combined\u001b[0m\u001b[0;34m,\u001b[0m \u001b[0my_pred\u001b[0m\u001b[0;34m)\u001b[0m\u001b[0;34m)\u001b[0m\u001b[0;34m\u001b[0m\u001b[0;34m\u001b[0m\u001b[0m\n\u001b[0m\u001b[1;32m      2\u001b[0m \u001b[0;31m#print(classification_report(X_meta_test_combined, y_pred, digits=6))\u001b[0m\u001b[0;34m\u001b[0m\u001b[0;34m\u001b[0m\u001b[0m\n",
            "\u001b[0;32m/usr/local/lib/python3.10/dist-packages/sklearn/utils/_param_validation.py\u001b[0m in \u001b[0;36mwrapper\u001b[0;34m(*args, **kwargs)\u001b[0m\n\u001b[1;32m    190\u001b[0m \u001b[0;34m\u001b[0m\u001b[0m\n\u001b[1;32m    191\u001b[0m             \u001b[0;32mtry\u001b[0m\u001b[0;34m:\u001b[0m\u001b[0;34m\u001b[0m\u001b[0;34m\u001b[0m\u001b[0m\n\u001b[0;32m--> 192\u001b[0;31m                 \u001b[0;32mreturn\u001b[0m \u001b[0mfunc\u001b[0m\u001b[0;34m(\u001b[0m\u001b[0;34m*\u001b[0m\u001b[0margs\u001b[0m\u001b[0;34m,\u001b[0m \u001b[0;34m**\u001b[0m\u001b[0mkwargs\u001b[0m\u001b[0;34m)\u001b[0m\u001b[0;34m\u001b[0m\u001b[0;34m\u001b[0m\u001b[0m\n\u001b[0m\u001b[1;32m    193\u001b[0m             \u001b[0;32mexcept\u001b[0m \u001b[0mInvalidParameterError\u001b[0m \u001b[0;32mas\u001b[0m \u001b[0me\u001b[0m\u001b[0;34m:\u001b[0m\u001b[0;34m\u001b[0m\u001b[0;34m\u001b[0m\u001b[0m\n\u001b[1;32m    194\u001b[0m                 \u001b[0;31m# When the function is just a wrapper around an estimator, we allow\u001b[0m\u001b[0;34m\u001b[0m\u001b[0;34m\u001b[0m\u001b[0m\n",
            "\u001b[0;32m/usr/local/lib/python3.10/dist-packages/sklearn/metrics/_classification.py\u001b[0m in \u001b[0;36maccuracy_score\u001b[0;34m(y_true, y_pred, normalize, sample_weight)\u001b[0m\n\u001b[1;32m    219\u001b[0m \u001b[0;34m\u001b[0m\u001b[0m\n\u001b[1;32m    220\u001b[0m     \u001b[0;31m# Compute accuracy for each possible representation\u001b[0m\u001b[0;34m\u001b[0m\u001b[0;34m\u001b[0m\u001b[0m\n\u001b[0;32m--> 221\u001b[0;31m     \u001b[0my_type\u001b[0m\u001b[0;34m,\u001b[0m \u001b[0my_true\u001b[0m\u001b[0;34m,\u001b[0m \u001b[0my_pred\u001b[0m \u001b[0;34m=\u001b[0m \u001b[0m_check_targets\u001b[0m\u001b[0;34m(\u001b[0m\u001b[0my_true\u001b[0m\u001b[0;34m,\u001b[0m \u001b[0my_pred\u001b[0m\u001b[0;34m)\u001b[0m\u001b[0;34m\u001b[0m\u001b[0;34m\u001b[0m\u001b[0m\n\u001b[0m\u001b[1;32m    222\u001b[0m     \u001b[0mcheck_consistent_length\u001b[0m\u001b[0;34m(\u001b[0m\u001b[0my_true\u001b[0m\u001b[0;34m,\u001b[0m \u001b[0my_pred\u001b[0m\u001b[0;34m,\u001b[0m \u001b[0msample_weight\u001b[0m\u001b[0;34m)\u001b[0m\u001b[0;34m\u001b[0m\u001b[0;34m\u001b[0m\u001b[0m\n\u001b[1;32m    223\u001b[0m     \u001b[0;32mif\u001b[0m \u001b[0my_type\u001b[0m\u001b[0;34m.\u001b[0m\u001b[0mstartswith\u001b[0m\u001b[0;34m(\u001b[0m\u001b[0;34m\"multilabel\"\u001b[0m\u001b[0;34m)\u001b[0m\u001b[0;34m:\u001b[0m\u001b[0;34m\u001b[0m\u001b[0;34m\u001b[0m\u001b[0m\n",
            "\u001b[0;32m/usr/local/lib/python3.10/dist-packages/sklearn/metrics/_classification.py\u001b[0m in \u001b[0;36m_check_targets\u001b[0;34m(y_true, y_pred)\u001b[0m\n\u001b[1;32m     93\u001b[0m \u001b[0;34m\u001b[0m\u001b[0m\n\u001b[1;32m     94\u001b[0m     \u001b[0;32mif\u001b[0m \u001b[0mlen\u001b[0m\u001b[0;34m(\u001b[0m\u001b[0my_type\u001b[0m\u001b[0;34m)\u001b[0m \u001b[0;34m>\u001b[0m \u001b[0;36m1\u001b[0m\u001b[0;34m:\u001b[0m\u001b[0;34m\u001b[0m\u001b[0;34m\u001b[0m\u001b[0m\n\u001b[0;32m---> 95\u001b[0;31m         raise ValueError(\n\u001b[0m\u001b[1;32m     96\u001b[0m             \"Classification metrics can't handle a mix of {0} and {1} targets\".format(\n\u001b[1;32m     97\u001b[0m                 \u001b[0mtype_true\u001b[0m\u001b[0;34m,\u001b[0m \u001b[0mtype_pred\u001b[0m\u001b[0;34m\u001b[0m\u001b[0;34m\u001b[0m\u001b[0m\n",
            "\u001b[0;31mValueError\u001b[0m: Classification metrics can't handle a mix of continuous-multioutput and binary targets"
          ]
        }
      ]
    },
    {
      "cell_type": "code",
      "source": [],
      "metadata": {
        "id": "PQUDvEwLaSzu"
      },
      "id": "PQUDvEwLaSzu",
      "execution_count": 61,
      "outputs": []
    },
    {
      "cell_type": "code",
      "source": [
        "tweet"
      ],
      "metadata": {
        "colab": {
          "base_uri": "https://localhost:8080/",
          "height": 52
        },
        "id": "8BCFqsblaF24",
        "outputId": "e1295b28-7124-4776-b726-2c1f808be84e"
      },
      "id": "8BCFqsblaF24",
      "execution_count": 46,
      "outputs": [
        {
          "output_type": "execute_result",
          "data": {
            "text/plain": [
              "'Canada’s top BDSM doctor says wear a mask, leash, tight leather to prevent spread of COVID-19 #cdnpoli #COVID19 https://t.co/1E7yDlIGBD https://t.co/bffEps28Iy'"
            ],
            "application/vnd.google.colaboratory.intrinsic+json": {
              "type": "string"
            }
          },
          "metadata": {},
          "execution_count": 46
        }
      ]
    },
    {
      "cell_type": "code",
      "source": [
        "def predict(tweet):\n",
        "    # Transform the input tweet using the TF-IDF vectorizer\n",
        "    tfidf_features = tfidf_vectorizer.transform([tweet])\n",
        "\n",
        "    # Extract additional features from the tweet\n",
        "    additional_features = extract_features(tweet)\n",
        "\n",
        "    # Convert additional_features to a NumPy array and reshape it to have 2 dimensions\n",
        "    additional_features_array = np.array(additional_features).reshape(1, -1)\n",
        "\n",
        "    # Convert tfidf_features to a NumPy array\n",
        "    tfidf_array = np.array(tfidf_features.toarray())\n",
        "\n",
        "    # Check the number of features in tfidf_array and additional_features_array\n",
        "    print(\"TF-IDF Features Shape:\", tfidf_array.shape)\n",
        "    print(\"Additional Features Shape:\", additional_features_array.shape)\n",
        "\n",
        "    # Combine TF-IDF features and additional features\n",
        "    combined_features = np.hstack([tfidf_array, additional_features_array])\n",
        "\n",
        "    # Predict using the meta-model\n",
        "    predicted_model_index = meta_model.predict(combined_features)[0]\n",
        "\n",
        "    # Select the corresponding base model\n",
        "    if predicted_model_index == 0:\n",
        "        predicted_model = model1\n",
        "    else:\n",
        "        predicted_model = model2\n",
        "\n",
        "    # Make prediction using the selected base model\n",
        "    predicted_label = predicted_model.predict(combined_features)[0]\n",
        "\n",
        "    return predicted_label\n"
      ],
      "metadata": {
        "id": "p7QR3qinDQbC"
      },
      "id": "p7QR3qinDQbC",
      "execution_count": 71,
      "outputs": []
    },
    {
      "cell_type": "code",
      "source": [
        "# Given tweet\n",
        "tweet = \"Canada’s top BDSM doctor says wear a mask, leash, tight leather to prevent spread of COVID-19 #cdnpoli #COVID19 https://t.co/1E7yDlIGBD https://t.co/bffEps28Iy\"\n",
        "\n",
        "# Predict the label for the tweet\n",
        "predicted_label = predict(tweet)\n",
        "\n",
        "# Print the predicted label\n",
        "print(\"Predicted Label:\", predicted_label)\n"
      ],
      "metadata": {
        "colab": {
          "base_uri": "https://localhost:8080/",
          "height": 391
        },
        "id": "fWXms4ptUfK0",
        "outputId": "2e827190-8f0e-46fc-a38d-426b31ebd1f5"
      },
      "id": "fWXms4ptUfK0",
      "execution_count": 72,
      "outputs": [
        {
          "output_type": "stream",
          "name": "stdout",
          "text": [
            "TF-IDF Features Shape: (1, 6530)\n",
            "Additional Features Shape: (1, 2)\n"
          ]
        },
        {
          "output_type": "error",
          "ename": "ValueError",
          "evalue": "X has 6532 features, but RandomForestClassifier is expecting 46878 features as input.",
          "traceback": [
            "\u001b[0;31m---------------------------------------------------------------------------\u001b[0m",
            "\u001b[0;31mValueError\u001b[0m                                Traceback (most recent call last)",
            "\u001b[0;32m<ipython-input-72-72248ea04440>\u001b[0m in \u001b[0;36m<cell line: 5>\u001b[0;34m()\u001b[0m\n\u001b[1;32m      3\u001b[0m \u001b[0;34m\u001b[0m\u001b[0m\n\u001b[1;32m      4\u001b[0m \u001b[0;31m# Predict the label for the tweet\u001b[0m\u001b[0;34m\u001b[0m\u001b[0;34m\u001b[0m\u001b[0m\n\u001b[0;32m----> 5\u001b[0;31m \u001b[0mpredicted_label\u001b[0m \u001b[0;34m=\u001b[0m \u001b[0mpredict\u001b[0m\u001b[0;34m(\u001b[0m\u001b[0mtweet\u001b[0m\u001b[0;34m)\u001b[0m\u001b[0;34m\u001b[0m\u001b[0;34m\u001b[0m\u001b[0m\n\u001b[0m\u001b[1;32m      6\u001b[0m \u001b[0;34m\u001b[0m\u001b[0m\n\u001b[1;32m      7\u001b[0m \u001b[0;31m# Print the predicted label\u001b[0m\u001b[0;34m\u001b[0m\u001b[0;34m\u001b[0m\u001b[0m\n",
            "\u001b[0;32m<ipython-input-71-b12039d114c2>\u001b[0m in \u001b[0;36mpredict\u001b[0;34m(tweet)\u001b[0m\n\u001b[1;32m     20\u001b[0m \u001b[0;34m\u001b[0m\u001b[0m\n\u001b[1;32m     21\u001b[0m     \u001b[0;31m# Predict using the meta-model\u001b[0m\u001b[0;34m\u001b[0m\u001b[0;34m\u001b[0m\u001b[0m\n\u001b[0;32m---> 22\u001b[0;31m     \u001b[0mpredicted_model_index\u001b[0m \u001b[0;34m=\u001b[0m \u001b[0mmeta_model\u001b[0m\u001b[0;34m.\u001b[0m\u001b[0mpredict\u001b[0m\u001b[0;34m(\u001b[0m\u001b[0mcombined_features\u001b[0m\u001b[0;34m)\u001b[0m\u001b[0;34m[\u001b[0m\u001b[0;36m0\u001b[0m\u001b[0;34m]\u001b[0m\u001b[0;34m\u001b[0m\u001b[0;34m\u001b[0m\u001b[0m\n\u001b[0m\u001b[1;32m     23\u001b[0m \u001b[0;34m\u001b[0m\u001b[0m\n\u001b[1;32m     24\u001b[0m     \u001b[0;31m# Select the corresponding base model\u001b[0m\u001b[0;34m\u001b[0m\u001b[0;34m\u001b[0m\u001b[0m\n",
            "\u001b[0;32m/usr/local/lib/python3.10/dist-packages/sklearn/ensemble/_forest.py\u001b[0m in \u001b[0;36mpredict\u001b[0;34m(self, X)\u001b[0m\n\u001b[1;32m    818\u001b[0m             \u001b[0mThe\u001b[0m \u001b[0mpredicted\u001b[0m \u001b[0mclasses\u001b[0m\u001b[0;34m.\u001b[0m\u001b[0;34m\u001b[0m\u001b[0;34m\u001b[0m\u001b[0m\n\u001b[1;32m    819\u001b[0m         \"\"\"\n\u001b[0;32m--> 820\u001b[0;31m         \u001b[0mproba\u001b[0m \u001b[0;34m=\u001b[0m \u001b[0mself\u001b[0m\u001b[0;34m.\u001b[0m\u001b[0mpredict_proba\u001b[0m\u001b[0;34m(\u001b[0m\u001b[0mX\u001b[0m\u001b[0;34m)\u001b[0m\u001b[0;34m\u001b[0m\u001b[0;34m\u001b[0m\u001b[0m\n\u001b[0m\u001b[1;32m    821\u001b[0m \u001b[0;34m\u001b[0m\u001b[0m\n\u001b[1;32m    822\u001b[0m         \u001b[0;32mif\u001b[0m \u001b[0mself\u001b[0m\u001b[0;34m.\u001b[0m\u001b[0mn_outputs_\u001b[0m \u001b[0;34m==\u001b[0m \u001b[0;36m1\u001b[0m\u001b[0;34m:\u001b[0m\u001b[0;34m\u001b[0m\u001b[0;34m\u001b[0m\u001b[0m\n",
            "\u001b[0;32m/usr/local/lib/python3.10/dist-packages/sklearn/ensemble/_forest.py\u001b[0m in \u001b[0;36mpredict_proba\u001b[0;34m(self, X)\u001b[0m\n\u001b[1;32m    860\u001b[0m         \u001b[0mcheck_is_fitted\u001b[0m\u001b[0;34m(\u001b[0m\u001b[0mself\u001b[0m\u001b[0;34m)\u001b[0m\u001b[0;34m\u001b[0m\u001b[0;34m\u001b[0m\u001b[0m\n\u001b[1;32m    861\u001b[0m         \u001b[0;31m# Check data\u001b[0m\u001b[0;34m\u001b[0m\u001b[0;34m\u001b[0m\u001b[0m\n\u001b[0;32m--> 862\u001b[0;31m         \u001b[0mX\u001b[0m \u001b[0;34m=\u001b[0m \u001b[0mself\u001b[0m\u001b[0;34m.\u001b[0m\u001b[0m_validate_X_predict\u001b[0m\u001b[0;34m(\u001b[0m\u001b[0mX\u001b[0m\u001b[0;34m)\u001b[0m\u001b[0;34m\u001b[0m\u001b[0;34m\u001b[0m\u001b[0m\n\u001b[0m\u001b[1;32m    863\u001b[0m \u001b[0;34m\u001b[0m\u001b[0m\n\u001b[1;32m    864\u001b[0m         \u001b[0;31m# Assign chunk of trees to jobs\u001b[0m\u001b[0;34m\u001b[0m\u001b[0;34m\u001b[0m\u001b[0m\n",
            "\u001b[0;32m/usr/local/lib/python3.10/dist-packages/sklearn/ensemble/_forest.py\u001b[0m in \u001b[0;36m_validate_X_predict\u001b[0;34m(self, X)\u001b[0m\n\u001b[1;32m    600\u001b[0m         Validate X whenever one tries to predict, apply, predict_proba.\"\"\"\n\u001b[1;32m    601\u001b[0m         \u001b[0mcheck_is_fitted\u001b[0m\u001b[0;34m(\u001b[0m\u001b[0mself\u001b[0m\u001b[0;34m)\u001b[0m\u001b[0;34m\u001b[0m\u001b[0;34m\u001b[0m\u001b[0m\n\u001b[0;32m--> 602\u001b[0;31m         \u001b[0mX\u001b[0m \u001b[0;34m=\u001b[0m \u001b[0mself\u001b[0m\u001b[0;34m.\u001b[0m\u001b[0m_validate_data\u001b[0m\u001b[0;34m(\u001b[0m\u001b[0mX\u001b[0m\u001b[0;34m,\u001b[0m \u001b[0mdtype\u001b[0m\u001b[0;34m=\u001b[0m\u001b[0mDTYPE\u001b[0m\u001b[0;34m,\u001b[0m \u001b[0maccept_sparse\u001b[0m\u001b[0;34m=\u001b[0m\u001b[0;34m\"csr\"\u001b[0m\u001b[0;34m,\u001b[0m \u001b[0mreset\u001b[0m\u001b[0;34m=\u001b[0m\u001b[0;32mFalse\u001b[0m\u001b[0;34m)\u001b[0m\u001b[0;34m\u001b[0m\u001b[0;34m\u001b[0m\u001b[0m\n\u001b[0m\u001b[1;32m    603\u001b[0m         \u001b[0;32mif\u001b[0m \u001b[0missparse\u001b[0m\u001b[0;34m(\u001b[0m\u001b[0mX\u001b[0m\u001b[0;34m)\u001b[0m \u001b[0;32mand\u001b[0m \u001b[0;34m(\u001b[0m\u001b[0mX\u001b[0m\u001b[0;34m.\u001b[0m\u001b[0mindices\u001b[0m\u001b[0;34m.\u001b[0m\u001b[0mdtype\u001b[0m \u001b[0;34m!=\u001b[0m \u001b[0mnp\u001b[0m\u001b[0;34m.\u001b[0m\u001b[0mintc\u001b[0m \u001b[0;32mor\u001b[0m \u001b[0mX\u001b[0m\u001b[0;34m.\u001b[0m\u001b[0mindptr\u001b[0m\u001b[0;34m.\u001b[0m\u001b[0mdtype\u001b[0m \u001b[0;34m!=\u001b[0m \u001b[0mnp\u001b[0m\u001b[0;34m.\u001b[0m\u001b[0mintc\u001b[0m\u001b[0;34m)\u001b[0m\u001b[0;34m:\u001b[0m\u001b[0;34m\u001b[0m\u001b[0;34m\u001b[0m\u001b[0m\n\u001b[1;32m    604\u001b[0m             \u001b[0;32mraise\u001b[0m \u001b[0mValueError\u001b[0m\u001b[0;34m(\u001b[0m\u001b[0;34m\"No support for np.int64 index based sparse matrices\"\u001b[0m\u001b[0;34m)\u001b[0m\u001b[0;34m\u001b[0m\u001b[0;34m\u001b[0m\u001b[0m\n",
            "\u001b[0;32m/usr/local/lib/python3.10/dist-packages/sklearn/base.py\u001b[0m in \u001b[0;36m_validate_data\u001b[0;34m(self, X, y, reset, validate_separately, **check_params)\u001b[0m\n\u001b[1;32m    586\u001b[0m \u001b[0;34m\u001b[0m\u001b[0m\n\u001b[1;32m    587\u001b[0m         \u001b[0;32mif\u001b[0m \u001b[0;32mnot\u001b[0m \u001b[0mno_val_X\u001b[0m \u001b[0;32mand\u001b[0m \u001b[0mcheck_params\u001b[0m\u001b[0;34m.\u001b[0m\u001b[0mget\u001b[0m\u001b[0;34m(\u001b[0m\u001b[0;34m\"ensure_2d\"\u001b[0m\u001b[0;34m,\u001b[0m \u001b[0;32mTrue\u001b[0m\u001b[0;34m)\u001b[0m\u001b[0;34m:\u001b[0m\u001b[0;34m\u001b[0m\u001b[0;34m\u001b[0m\u001b[0m\n\u001b[0;32m--> 588\u001b[0;31m             \u001b[0mself\u001b[0m\u001b[0;34m.\u001b[0m\u001b[0m_check_n_features\u001b[0m\u001b[0;34m(\u001b[0m\u001b[0mX\u001b[0m\u001b[0;34m,\u001b[0m \u001b[0mreset\u001b[0m\u001b[0;34m=\u001b[0m\u001b[0mreset\u001b[0m\u001b[0;34m)\u001b[0m\u001b[0;34m\u001b[0m\u001b[0;34m\u001b[0m\u001b[0m\n\u001b[0m\u001b[1;32m    589\u001b[0m \u001b[0;34m\u001b[0m\u001b[0m\n\u001b[1;32m    590\u001b[0m         \u001b[0;32mreturn\u001b[0m \u001b[0mout\u001b[0m\u001b[0;34m\u001b[0m\u001b[0;34m\u001b[0m\u001b[0m\n",
            "\u001b[0;32m/usr/local/lib/python3.10/dist-packages/sklearn/base.py\u001b[0m in \u001b[0;36m_check_n_features\u001b[0;34m(self, X, reset)\u001b[0m\n\u001b[1;32m    387\u001b[0m \u001b[0;34m\u001b[0m\u001b[0m\n\u001b[1;32m    388\u001b[0m         \u001b[0;32mif\u001b[0m \u001b[0mn_features\u001b[0m \u001b[0;34m!=\u001b[0m \u001b[0mself\u001b[0m\u001b[0;34m.\u001b[0m\u001b[0mn_features_in_\u001b[0m\u001b[0;34m:\u001b[0m\u001b[0;34m\u001b[0m\u001b[0;34m\u001b[0m\u001b[0m\n\u001b[0;32m--> 389\u001b[0;31m             raise ValueError(\n\u001b[0m\u001b[1;32m    390\u001b[0m                 \u001b[0;34mf\"X has {n_features} features, but {self.__class__.__name__} \"\u001b[0m\u001b[0;34m\u001b[0m\u001b[0;34m\u001b[0m\u001b[0m\n\u001b[1;32m    391\u001b[0m                 \u001b[0;34mf\"is expecting {self.n_features_in_} features as input.\"\u001b[0m\u001b[0;34m\u001b[0m\u001b[0;34m\u001b[0m\u001b[0m\n",
            "\u001b[0;31mValueError\u001b[0m: X has 6532 features, but RandomForestClassifier is expecting 46878 features as input."
          ]
        }
      ]
    },
    {
      "cell_type": "code",
      "source": [
        "from sklearn.metrics import accuracy_score\n",
        "\n",
        "# Assuming final_x_test contains all the features\n",
        "final_x_test_sliced = final_x_test.iloc[:, :46878]  # Slice to match the number of features expected by the model\n",
        "\n",
        "# Calculate the number of tweets\n",
        "total_tweets = len(y_test)\n",
        "\n",
        "# Initialize total accuracy\n",
        "total_accuracy = 0\n",
        "\n",
        "# Iterate over each index in final_x_test_sliced\n",
        "for index in range(len(final_x_test_sliced)):\n",
        "    # Get the tweet at the current index\n",
        "    tweet = final_x_test_sliced[index]\n",
        "\n",
        "    # Get the actual label for the tweet\n",
        "    actual_label = y_test.iloc[index]\n",
        "\n",
        "    # Use the predict function to get the predicted label and accuracy\n",
        "    predicted_label, accuracy = predict(tweet, actual_label)\n",
        "\n",
        "    # Accumulate the accuracy\n",
        "    total_accuracy += accuracy\n",
        "\n",
        "# Calculate the overall accuracy score\n",
        "overall_accuracy = total_accuracy / total_tweets\n",
        "print(\"Overall Accuracy:\", overall_accuracy)\n"
      ],
      "metadata": {
        "colab": {
          "base_uri": "https://localhost:8080/",
          "height": 228
        },
        "id": "nAVXNBbDUf6l",
        "outputId": "8ecfad9a-4a7f-4f8e-b5ab-1f193b82ef86"
      },
      "id": "nAVXNBbDUf6l",
      "execution_count": 43,
      "outputs": [
        {
          "output_type": "error",
          "ename": "NameError",
          "evalue": "name 'final_x_test' is not defined",
          "traceback": [
            "\u001b[0;31m---------------------------------------------------------------------------\u001b[0m",
            "\u001b[0;31mNameError\u001b[0m                                 Traceback (most recent call last)",
            "\u001b[0;32m<ipython-input-43-0c842e2bd983>\u001b[0m in \u001b[0;36m<cell line: 4>\u001b[0;34m()\u001b[0m\n\u001b[1;32m      2\u001b[0m \u001b[0;34m\u001b[0m\u001b[0m\n\u001b[1;32m      3\u001b[0m \u001b[0;31m# Assuming final_x_test contains all the features\u001b[0m\u001b[0;34m\u001b[0m\u001b[0;34m\u001b[0m\u001b[0m\n\u001b[0;32m----> 4\u001b[0;31m \u001b[0mfinal_x_test_sliced\u001b[0m \u001b[0;34m=\u001b[0m \u001b[0mfinal_x_test\u001b[0m\u001b[0;34m.\u001b[0m\u001b[0miloc\u001b[0m\u001b[0;34m[\u001b[0m\u001b[0;34m:\u001b[0m\u001b[0;34m,\u001b[0m \u001b[0;34m:\u001b[0m\u001b[0;36m46878\u001b[0m\u001b[0;34m]\u001b[0m  \u001b[0;31m# Slice to match the number of features expected by the model\u001b[0m\u001b[0;34m\u001b[0m\u001b[0;34m\u001b[0m\u001b[0m\n\u001b[0m\u001b[1;32m      5\u001b[0m \u001b[0;34m\u001b[0m\u001b[0m\n\u001b[1;32m      6\u001b[0m \u001b[0;31m# Calculate the number of tweets\u001b[0m\u001b[0;34m\u001b[0m\u001b[0;34m\u001b[0m\u001b[0m\n",
            "\u001b[0;31mNameError\u001b[0m: name 'final_x_test' is not defined"
          ]
        }
      ]
    },
    {
      "cell_type": "code",
      "source": [
        "\n",
        "# Example usage\n",
        "new_tweet = \"This is a suspicious claim that needs verification.\"\n",
        "prediction = predict(new_tweet)\n",
        "print(f\"Predicted probabilities: {prediction}\")\n"
      ],
      "metadata": {
        "id": "LMlKj0wOFEtP",
        "colab": {
          "base_uri": "https://localhost:8080/",
          "height": 339
        },
        "outputId": "fc71ae77-3e34-45a1-efd6-00b34a342867"
      },
      "id": "LMlKj0wOFEtP",
      "execution_count": 33,
      "outputs": [
        {
          "output_type": "error",
          "ename": "ValueError",
          "evalue": "X has 6532 features, but RandomForestClassifier is expecting 46878 features as input.",
          "traceback": [
            "\u001b[0;31m---------------------------------------------------------------------------\u001b[0m",
            "\u001b[0;31mValueError\u001b[0m                                Traceback (most recent call last)",
            "\u001b[0;32m<ipython-input-33-79d98465b5b6>\u001b[0m in \u001b[0;36m<cell line: 3>\u001b[0;34m()\u001b[0m\n\u001b[1;32m      1\u001b[0m \u001b[0;31m# Example usage\u001b[0m\u001b[0;34m\u001b[0m\u001b[0;34m\u001b[0m\u001b[0m\n\u001b[1;32m      2\u001b[0m \u001b[0mnew_tweet\u001b[0m \u001b[0;34m=\u001b[0m \u001b[0;34m\"This is a suspicious claim that needs verification.\"\u001b[0m\u001b[0;34m\u001b[0m\u001b[0;34m\u001b[0m\u001b[0m\n\u001b[0;32m----> 3\u001b[0;31m \u001b[0mprediction\u001b[0m \u001b[0;34m=\u001b[0m \u001b[0mpredict\u001b[0m\u001b[0;34m(\u001b[0m\u001b[0mnew_tweet\u001b[0m\u001b[0;34m)\u001b[0m\u001b[0;34m\u001b[0m\u001b[0;34m\u001b[0m\u001b[0m\n\u001b[0m\u001b[1;32m      4\u001b[0m \u001b[0mprint\u001b[0m\u001b[0;34m(\u001b[0m\u001b[0;34mf\"Predicted probabilities: {prediction}\"\u001b[0m\u001b[0;34m)\u001b[0m\u001b[0;34m\u001b[0m\u001b[0;34m\u001b[0m\u001b[0m\n",
            "\u001b[0;32m<ipython-input-32-5bdd5e0a3992>\u001b[0m in \u001b[0;36mpredict\u001b[0;34m(tweet)\u001b[0m\n\u001b[1;32m     11\u001b[0m \u001b[0;34m\u001b[0m\u001b[0m\n\u001b[1;32m     12\u001b[0m     \u001b[0;31m# Predict using the meta-model\u001b[0m\u001b[0;34m\u001b[0m\u001b[0;34m\u001b[0m\u001b[0m\n\u001b[0;32m---> 13\u001b[0;31m     \u001b[0mpredicted_model_index\u001b[0m \u001b[0;34m=\u001b[0m \u001b[0mmeta_model\u001b[0m\u001b[0;34m.\u001b[0m\u001b[0mpredict\u001b[0m\u001b[0;34m(\u001b[0m\u001b[0mcombined_features\u001b[0m\u001b[0;34m)\u001b[0m\u001b[0;34m[\u001b[0m\u001b[0;36m0\u001b[0m\u001b[0;34m]\u001b[0m\u001b[0;34m\u001b[0m\u001b[0;34m\u001b[0m\u001b[0m\n\u001b[0m\u001b[1;32m     14\u001b[0m \u001b[0;34m\u001b[0m\u001b[0m\n\u001b[1;32m     15\u001b[0m     \u001b[0;31m# Select the corresponding base model\u001b[0m\u001b[0;34m\u001b[0m\u001b[0;34m\u001b[0m\u001b[0m\n",
            "\u001b[0;32m/usr/local/lib/python3.10/dist-packages/sklearn/ensemble/_forest.py\u001b[0m in \u001b[0;36mpredict\u001b[0;34m(self, X)\u001b[0m\n\u001b[1;32m    818\u001b[0m             \u001b[0mThe\u001b[0m \u001b[0mpredicted\u001b[0m \u001b[0mclasses\u001b[0m\u001b[0;34m.\u001b[0m\u001b[0;34m\u001b[0m\u001b[0;34m\u001b[0m\u001b[0m\n\u001b[1;32m    819\u001b[0m         \"\"\"\n\u001b[0;32m--> 820\u001b[0;31m         \u001b[0mproba\u001b[0m \u001b[0;34m=\u001b[0m \u001b[0mself\u001b[0m\u001b[0;34m.\u001b[0m\u001b[0mpredict_proba\u001b[0m\u001b[0;34m(\u001b[0m\u001b[0mX\u001b[0m\u001b[0;34m)\u001b[0m\u001b[0;34m\u001b[0m\u001b[0;34m\u001b[0m\u001b[0m\n\u001b[0m\u001b[1;32m    821\u001b[0m \u001b[0;34m\u001b[0m\u001b[0m\n\u001b[1;32m    822\u001b[0m         \u001b[0;32mif\u001b[0m \u001b[0mself\u001b[0m\u001b[0;34m.\u001b[0m\u001b[0mn_outputs_\u001b[0m \u001b[0;34m==\u001b[0m \u001b[0;36m1\u001b[0m\u001b[0;34m:\u001b[0m\u001b[0;34m\u001b[0m\u001b[0;34m\u001b[0m\u001b[0m\n",
            "\u001b[0;32m/usr/local/lib/python3.10/dist-packages/sklearn/ensemble/_forest.py\u001b[0m in \u001b[0;36mpredict_proba\u001b[0;34m(self, X)\u001b[0m\n\u001b[1;32m    860\u001b[0m         \u001b[0mcheck_is_fitted\u001b[0m\u001b[0;34m(\u001b[0m\u001b[0mself\u001b[0m\u001b[0;34m)\u001b[0m\u001b[0;34m\u001b[0m\u001b[0;34m\u001b[0m\u001b[0m\n\u001b[1;32m    861\u001b[0m         \u001b[0;31m# Check data\u001b[0m\u001b[0;34m\u001b[0m\u001b[0;34m\u001b[0m\u001b[0m\n\u001b[0;32m--> 862\u001b[0;31m         \u001b[0mX\u001b[0m \u001b[0;34m=\u001b[0m \u001b[0mself\u001b[0m\u001b[0;34m.\u001b[0m\u001b[0m_validate_X_predict\u001b[0m\u001b[0;34m(\u001b[0m\u001b[0mX\u001b[0m\u001b[0;34m)\u001b[0m\u001b[0;34m\u001b[0m\u001b[0;34m\u001b[0m\u001b[0m\n\u001b[0m\u001b[1;32m    863\u001b[0m \u001b[0;34m\u001b[0m\u001b[0m\n\u001b[1;32m    864\u001b[0m         \u001b[0;31m# Assign chunk of trees to jobs\u001b[0m\u001b[0;34m\u001b[0m\u001b[0;34m\u001b[0m\u001b[0m\n",
            "\u001b[0;32m/usr/local/lib/python3.10/dist-packages/sklearn/ensemble/_forest.py\u001b[0m in \u001b[0;36m_validate_X_predict\u001b[0;34m(self, X)\u001b[0m\n\u001b[1;32m    600\u001b[0m         Validate X whenever one tries to predict, apply, predict_proba.\"\"\"\n\u001b[1;32m    601\u001b[0m         \u001b[0mcheck_is_fitted\u001b[0m\u001b[0;34m(\u001b[0m\u001b[0mself\u001b[0m\u001b[0;34m)\u001b[0m\u001b[0;34m\u001b[0m\u001b[0;34m\u001b[0m\u001b[0m\n\u001b[0;32m--> 602\u001b[0;31m         \u001b[0mX\u001b[0m \u001b[0;34m=\u001b[0m \u001b[0mself\u001b[0m\u001b[0;34m.\u001b[0m\u001b[0m_validate_data\u001b[0m\u001b[0;34m(\u001b[0m\u001b[0mX\u001b[0m\u001b[0;34m,\u001b[0m \u001b[0mdtype\u001b[0m\u001b[0;34m=\u001b[0m\u001b[0mDTYPE\u001b[0m\u001b[0;34m,\u001b[0m \u001b[0maccept_sparse\u001b[0m\u001b[0;34m=\u001b[0m\u001b[0;34m\"csr\"\u001b[0m\u001b[0;34m,\u001b[0m \u001b[0mreset\u001b[0m\u001b[0;34m=\u001b[0m\u001b[0;32mFalse\u001b[0m\u001b[0;34m)\u001b[0m\u001b[0;34m\u001b[0m\u001b[0;34m\u001b[0m\u001b[0m\n\u001b[0m\u001b[1;32m    603\u001b[0m         \u001b[0;32mif\u001b[0m \u001b[0missparse\u001b[0m\u001b[0;34m(\u001b[0m\u001b[0mX\u001b[0m\u001b[0;34m)\u001b[0m \u001b[0;32mand\u001b[0m \u001b[0;34m(\u001b[0m\u001b[0mX\u001b[0m\u001b[0;34m.\u001b[0m\u001b[0mindices\u001b[0m\u001b[0;34m.\u001b[0m\u001b[0mdtype\u001b[0m \u001b[0;34m!=\u001b[0m \u001b[0mnp\u001b[0m\u001b[0;34m.\u001b[0m\u001b[0mintc\u001b[0m \u001b[0;32mor\u001b[0m \u001b[0mX\u001b[0m\u001b[0;34m.\u001b[0m\u001b[0mindptr\u001b[0m\u001b[0;34m.\u001b[0m\u001b[0mdtype\u001b[0m \u001b[0;34m!=\u001b[0m \u001b[0mnp\u001b[0m\u001b[0;34m.\u001b[0m\u001b[0mintc\u001b[0m\u001b[0;34m)\u001b[0m\u001b[0;34m:\u001b[0m\u001b[0;34m\u001b[0m\u001b[0;34m\u001b[0m\u001b[0m\n\u001b[1;32m    604\u001b[0m             \u001b[0;32mraise\u001b[0m \u001b[0mValueError\u001b[0m\u001b[0;34m(\u001b[0m\u001b[0;34m\"No support for np.int64 index based sparse matrices\"\u001b[0m\u001b[0;34m)\u001b[0m\u001b[0;34m\u001b[0m\u001b[0;34m\u001b[0m\u001b[0m\n",
            "\u001b[0;32m/usr/local/lib/python3.10/dist-packages/sklearn/base.py\u001b[0m in \u001b[0;36m_validate_data\u001b[0;34m(self, X, y, reset, validate_separately, **check_params)\u001b[0m\n\u001b[1;32m    586\u001b[0m \u001b[0;34m\u001b[0m\u001b[0m\n\u001b[1;32m    587\u001b[0m         \u001b[0;32mif\u001b[0m \u001b[0;32mnot\u001b[0m \u001b[0mno_val_X\u001b[0m \u001b[0;32mand\u001b[0m \u001b[0mcheck_params\u001b[0m\u001b[0;34m.\u001b[0m\u001b[0mget\u001b[0m\u001b[0;34m(\u001b[0m\u001b[0;34m\"ensure_2d\"\u001b[0m\u001b[0;34m,\u001b[0m \u001b[0;32mTrue\u001b[0m\u001b[0;34m)\u001b[0m\u001b[0;34m:\u001b[0m\u001b[0;34m\u001b[0m\u001b[0;34m\u001b[0m\u001b[0m\n\u001b[0;32m--> 588\u001b[0;31m             \u001b[0mself\u001b[0m\u001b[0;34m.\u001b[0m\u001b[0m_check_n_features\u001b[0m\u001b[0;34m(\u001b[0m\u001b[0mX\u001b[0m\u001b[0;34m,\u001b[0m \u001b[0mreset\u001b[0m\u001b[0;34m=\u001b[0m\u001b[0mreset\u001b[0m\u001b[0;34m)\u001b[0m\u001b[0;34m\u001b[0m\u001b[0;34m\u001b[0m\u001b[0m\n\u001b[0m\u001b[1;32m    589\u001b[0m \u001b[0;34m\u001b[0m\u001b[0m\n\u001b[1;32m    590\u001b[0m         \u001b[0;32mreturn\u001b[0m \u001b[0mout\u001b[0m\u001b[0;34m\u001b[0m\u001b[0;34m\u001b[0m\u001b[0m\n",
            "\u001b[0;32m/usr/local/lib/python3.10/dist-packages/sklearn/base.py\u001b[0m in \u001b[0;36m_check_n_features\u001b[0;34m(self, X, reset)\u001b[0m\n\u001b[1;32m    387\u001b[0m \u001b[0;34m\u001b[0m\u001b[0m\n\u001b[1;32m    388\u001b[0m         \u001b[0;32mif\u001b[0m \u001b[0mn_features\u001b[0m \u001b[0;34m!=\u001b[0m \u001b[0mself\u001b[0m\u001b[0;34m.\u001b[0m\u001b[0mn_features_in_\u001b[0m\u001b[0;34m:\u001b[0m\u001b[0;34m\u001b[0m\u001b[0;34m\u001b[0m\u001b[0m\n\u001b[0;32m--> 389\u001b[0;31m             raise ValueError(\n\u001b[0m\u001b[1;32m    390\u001b[0m                 \u001b[0;34mf\"X has {n_features} features, but {self.__class__.__name__} \"\u001b[0m\u001b[0;34m\u001b[0m\u001b[0;34m\u001b[0m\u001b[0m\n\u001b[1;32m    391\u001b[0m                 \u001b[0;34mf\"is expecting {self.n_features_in_} features as input.\"\u001b[0m\u001b[0;34m\u001b[0m\u001b[0;34m\u001b[0m\u001b[0m\n",
            "\u001b[0;31mValueError\u001b[0m: X has 6532 features, but RandomForestClassifier is expecting 46878 features as input."
          ]
        }
      ]
    },
    {
      "cell_type": "markdown",
      "source": [
        "**Hard voting and soft voting code**"
      ],
      "metadata": {
        "id": "ujI06V5dNlQg"
      },
      "id": "ujI06V5dNlQg"
    },
    {
      "cell_type": "code",
      "execution_count": null,
      "id": "0a3c6078",
      "metadata": {
        "scrolled": true,
        "colab": {
          "base_uri": "https://localhost:8080/"
        },
        "id": "0a3c6078",
        "outputId": "8ea38d8d-51ee-4097-b8d6-b343a9de79b3"
      },
      "outputs": [
        {
          "output_type": "stream",
          "name": "stdout",
          "text": [
            "4463    Our daily update is published. We’ve now track...\n",
            "1182    RT @CDC_eHealth: CDC leads a new national geno...\n",
            "2015    _Indian Prime Minister Narendra Modi has been ...\n",
            "5424    NEWS! Coronavirus ‘a serious and imminent thre...\n",
            "6010    Man Could Soon Be Eating Rice For Breakfast, D...\n",
            "                              ...                        \n",
            "5605    RT @PIB_India: #IndiaFightsCOVID19 ✅More than ...\n",
            "6258    We're getting a lot of questions about Georgia...\n",
            "5423    Prepare for the possible spread of #COVID19 in...\n",
            "361     #Coronavirus surges in Arizona. https://t.co/z...\n",
            "4117    A COVID-19 case has been diagnosed in Yedikule...\n",
            "Name: tweet, Length: 1284, dtype: object\n",
            "4463    real\n",
            "1182    real\n",
            "2015    fake\n",
            "5424    fake\n",
            "6010    fake\n",
            "        ... \n",
            "5605    real\n",
            "6258    real\n",
            "5423    real\n",
            "361     real\n",
            "4117    fake\n",
            "Name: label, Length: 1284, dtype: object\n"
          ]
        }
      ],
      "source": [
        "\n",
        "df=pd.read_csv(\"Constraint_Train.csv\")\n",
        "# my = my.replace([np.inf, -np.inf], np.nan)\n",
        "# my = my.fillna(0)\n",
        "# my[my < 0] = 0\n",
        "#my.drop(['Unnamed'])\n",
        "x=df['tweet']\n",
        "y=df['label']\n",
        "\n",
        "x_train,x_test,y_train,y_test = train_test_split(x,y,test_size = 0.2,random_state=7)\n",
        "###################### .values.ravel()\n",
        "print(x_test)\n",
        "print(y_test)"
      ]
    },
    {
      "cell_type": "code",
      "source": [],
      "metadata": {
        "id": "aofygFWgCz50"
      },
      "id": "aofygFWgCz50",
      "execution_count": null,
      "outputs": []
    },
    {
      "cell_type": "code",
      "execution_count": null,
      "id": "e281b9ba",
      "metadata": {
        "id": "e281b9ba"
      },
      "outputs": [],
      "source": [
        "#preprocessing of the data\n",
        "\n",
        "\n",
        "from sklearn.feature_extraction.text import TfidfVectorizer\n",
        "tfidf_vectorizer = TfidfVectorizer(stop_words = 'english',max_df = 0.7)\n",
        "\n",
        "tfidf_train = tfidf_vectorizer.fit_transform(x_train)\n",
        "\n",
        "tfidf_test = tfidf_vectorizer.transform(x_test)"
      ]
    },
    {
      "cell_type": "code",
      "execution_count": null,
      "id": "3c8769ff",
      "metadata": {
        "id": "3c8769ff",
        "outputId": "183cab71-617b-4308-f331-207731c75ed0"
      },
      "outputs": [
        {
          "name": "stdout",
          "output_type": "stream",
          "text": [
            "  (0, 15360)\t0.23675641843973433\n",
            "  (0, 14621)\t0.24544879868006486\n",
            "  (0, 14429)\t0.21308925823116945\n",
            "  (0, 13989)\t0.289151596194692\n",
            "  (0, 13988)\t0.26829456467035295\n",
            "  (0, 13720)\t0.3734465333605745\n",
            "  (0, 13173)\t0.19935384699146969\n",
            "  (0, 11999)\t0.2765574545866556\n",
            "  (0, 11502)\t0.29108599262106793\n",
            "  (0, 11436)\t0.2492872980986575\n",
            "  (0, 10176)\t0.2750862944115268\n",
            "  (0, 9564)\t0.2399877211030372\n",
            "  (0, 7529)\t0.17361834333592496\n",
            "  (0, 5126)\t0.2568967670516251\n",
            "  (0, 4849)\t0.2252426990584096\n",
            "  (1, 14363)\t0.23888252571481405\n",
            "  (1, 13133)\t0.30589122919834694\n",
            "  (1, 12681)\t0.36851326358576675\n",
            "  (1, 12483)\t0.24592199308318438\n",
            "  (1, 12317)\t0.17280947617765882\n",
            "  (1, 10051)\t0.12241814142417139\n",
            "  (1, 9958)\t0.2149273267704883\n",
            "  (1, 8838)\t0.3163546673190134\n",
            "  (1, 8721)\t0.23052763173215587\n",
            "  (1, 7287)\t0.20360540775314634\n",
            "  :\t:\n",
            "  (1281, 12913)\t0.3098008475574137\n",
            "  (1281, 11212)\t0.2966638359271465\n",
            "  (1281, 11211)\t0.34557592998981057\n",
            "  (1281, 11116)\t0.22578878946415815\n",
            "  (1281, 10813)\t0.1305499317469792\n",
            "  (1281, 10389)\t0.25377030462627137\n",
            "  (1281, 9416)\t0.1982746108091646\n",
            "  (1281, 8845)\t0.1940265799772802\n",
            "  (1281, 7786)\t0.21689533608718534\n",
            "  (1281, 7529)\t0.12980259181150552\n",
            "  (1281, 5943)\t0.2620205247602208\n",
            "  (1281, 4622)\t0.09809582595186464\n",
            "  (1281, 4344)\t0.2398445111230679\n",
            "  (1281, 4279)\t0.19362613159754097\n",
            "  (1281, 2334)\t0.26690731625653863\n",
            "  (1281, 2249)\t0.2724944561230736\n",
            "  (1282, 13447)\t0.7500921525259554\n",
            "  (1282, 7529)\t0.147635059383272\n",
            "  (1282, 4530)\t0.2166413805358629\n",
            "  (1282, 2748)\t0.6071508578593889\n",
            "  (1283, 7459)\t0.4188196876636183\n",
            "  (1283, 5180)\t0.7389232738739288\n",
            "  (1283, 4620)\t0.2188175419543892\n",
            "  (1283, 3745)\t0.41736751622701074\n",
            "  (1283, 470)\t0.23770928522949894\n"
          ]
        }
      ],
      "source": [
        "print(tfidf_test)"
      ]
    },
    {
      "cell_type": "code",
      "execution_count": null,
      "id": "3d6b81c4",
      "metadata": {
        "id": "3d6b81c4",
        "outputId": "3ce7956a-f4bb-476f-9014-b7431d948f58"
      },
      "outputs": [
        {
          "name": "stdout",
          "output_type": "stream",
          "text": [
            "MLP\n",
            "Accuracy: 0.9415887850467289\n",
            "              precision    recall  f1-score   support\n",
            "\n",
            "        fake   0.950847  0.924217  0.937343       607\n",
            "        real   0.933718  0.957164  0.945295       677\n",
            "\n",
            "    accuracy                       0.941589      1284\n",
            "   macro avg   0.942283  0.940691  0.941319      1284\n",
            "weighted avg   0.941816  0.941589  0.941536      1284\n",
            "\n"
          ]
        }
      ],
      "source": [
        "#MLP\n",
        "print(\"MLP\")\n",
        "cl = MLPClassifier()\n",
        "cl.fit(tfidf_train, y_train.values.ravel())\n",
        "y_pred = cl.predict(tfidf_test)\n",
        "print(\"Accuracy:\", metrics.accuracy_score(y_test, y_pred))\n",
        "print(classification_report(y_test, y_pred, digits=6))\n"
      ]
    },
    {
      "cell_type": "code",
      "execution_count": null,
      "id": "61feaf94",
      "metadata": {
        "id": "61feaf94",
        "outputId": "38387078-e929-4423-fd8f-d1af863edf5e"
      },
      "outputs": [
        {
          "name": "stdout",
          "output_type": "stream",
          "text": [
            "K-Nearest Neighbours\n",
            "Accuracy: 0.9018691588785047\n",
            "              precision    recall  f1-score   support\n",
            "\n",
            "        fake   0.897521  0.894563  0.896040       607\n",
            "        real   0.905744  0.908419  0.907080       677\n",
            "\n",
            "    accuracy                       0.901869      1284\n",
            "   macro avg   0.901632  0.901491  0.901560      1284\n",
            "weighted avg   0.901856  0.901869  0.901861      1284\n",
            "\n"
          ]
        }
      ],
      "source": [
        "# K-Nearest Neighbours\n",
        "print(\"K-Nearest Neighbours\")\n",
        "knn = KNeighborsClassifier()\n",
        "knn.fit(tfidf_train,y_train.values.ravel())\n",
        "y_pred = knn.predict(tfidf_test)\n",
        "print(\"Accuracy:\", metrics.accuracy_score(y_test, y_pred))\n",
        "print(classification_report(y_test, y_pred, digits=6))"
      ]
    },
    {
      "cell_type": "code",
      "execution_count": null,
      "id": "5eacc330",
      "metadata": {
        "id": "5eacc330",
        "outputId": "2c6ad45f-3204-44c3-8028-dbdc08cfcbee"
      },
      "outputs": [
        {
          "name": "stdout",
          "output_type": "stream",
          "text": [
            "Tree\n",
            "Accuracy: 0.8886292834890965\n",
            "              precision    recall  f1-score   support\n",
            "\n",
            "        fake   0.882838  0.881384  0.882110       607\n",
            "        real   0.893805  0.895126  0.894465       677\n",
            "\n",
            "    accuracy                       0.888629      1284\n",
            "   macro avg   0.888322  0.888255  0.888288      1284\n",
            "weighted avg   0.888621  0.888629  0.888624      1284\n",
            "\n"
          ]
        }
      ],
      "source": [
        "\n",
        "# Decision Tree\n",
        "print(\"Tree\")\n",
        "dt = DecisionTreeClassifier()\n",
        "dt.fit(tfidf_train,y_train.values.ravel())\n",
        "y_pred = dt.predict(tfidf_test)\n",
        "print(\"Accuracy:\", metrics.accuracy_score(y_test, y_pred))\n",
        "print(classification_report(y_test, y_pred, digits=6))\n"
      ]
    },
    {
      "cell_type": "code",
      "execution_count": null,
      "id": "a7ea8cf2",
      "metadata": {
        "id": "a7ea8cf2",
        "outputId": "bc7c736e-3cbf-4e3c-d9f4-72e9b3e770e1"
      },
      "outputs": [
        {
          "name": "stdout",
          "output_type": "stream",
          "text": [
            "Forest\n",
            "Accuracy: 0.9221183800623053\n",
            "              precision    recall  f1-score   support\n",
            "\n",
            "        fake   0.904306  0.934102  0.918963       607\n",
            "        real   0.939117  0.911374  0.925037       677\n",
            "\n",
            "    accuracy                       0.922118      1284\n",
            "   macro avg   0.921712  0.922738  0.922000      1284\n",
            "weighted avg   0.922661  0.922118  0.922166      1284\n",
            "\n"
          ]
        }
      ],
      "source": [
        "# Forest\n",
        "print(\"Forest\")\n",
        "rf = RandomForestClassifier()\n",
        "rf.fit(tfidf_train,y_train.values.ravel())\n",
        "y_pred = rf.predict(tfidf_test)\n",
        "print(\"Accuracy:\", metrics.accuracy_score(y_test, y_pred))\n",
        "print(classification_report(y_test, y_pred, digits=6))\n"
      ]
    },
    {
      "cell_type": "code",
      "execution_count": null,
      "id": "0a3dac3b",
      "metadata": {
        "id": "0a3dac3b",
        "outputId": "ed2e0d3f-c693-4409-e614-f2eec992545a"
      },
      "outputs": [
        {
          "name": "stdout",
          "output_type": "stream",
          "text": [
            "Bagging\n",
            "Accuracy: 0.8956386292834891\n",
            "              precision    recall  f1-score   support\n",
            "\n",
            "        fake   0.890909  0.887974  0.889439       607\n",
            "        real   0.899853  0.902511  0.901180       677\n",
            "\n",
            "    accuracy                       0.895639      1284\n",
            "   macro avg   0.895381  0.895242  0.895309      1284\n",
            "weighted avg   0.895625  0.895639  0.895629      1284\n",
            "\n"
          ]
        }
      ],
      "source": [
        "\n",
        "# Bagging\n",
        "print(\"Bagging\")\n",
        "rp = BaggingClassifier()\n",
        "rp.fit(tfidf_train, y_train.values.ravel())\n",
        "y_pred = rp.predict(tfidf_test)\n",
        "print(\"Accuracy:\", metrics.accuracy_score(y_test, y_pred))\n",
        "print(classification_report(y_test, y_pred, digits=6))\n"
      ]
    },
    {
      "cell_type": "code",
      "execution_count": null,
      "id": "e76c3cd6",
      "metadata": {
        "id": "e76c3cd6",
        "outputId": "445fc649-2360-4dba-eb49-5cb95243a050"
      },
      "outputs": [
        {
          "name": "stdout",
          "output_type": "stream",
          "text": [
            "AdaBoost\n",
            "Accuracy: 0.8995327102803738\n",
            "              precision    recall  f1-score   support\n",
            "\n",
            "        fake   0.885484  0.904448  0.894866       607\n",
            "        real   0.912651  0.895126  0.903803       677\n",
            "\n",
            "    accuracy                       0.899533      1284\n",
            "   macro avg   0.899067  0.899787  0.899334      1284\n",
            "weighted avg   0.899808  0.899533  0.899578      1284\n",
            "\n"
          ]
        }
      ],
      "source": [
        "\n",
        "# AdaBoostClassifier\n",
        "print(\"AdaBoost\")\n",
        "adb = AdaBoostClassifier()\n",
        "adb.fit(tfidf_train,y_train.values.ravel())\n",
        "y_pred = adb.predict(tfidf_test)\n",
        "print(\"Accuracy:\", metrics.accuracy_score(y_test, y_pred))\n",
        "print(classification_report(y_test, y_pred, digits=6))\n"
      ]
    },
    {
      "cell_type": "code",
      "execution_count": null,
      "id": "8338853a",
      "metadata": {
        "id": "8338853a",
        "outputId": "4e245f08-613f-46c4-83df-3c697531833b"
      },
      "outputs": [
        {
          "name": "stdout",
          "output_type": "stream",
          "text": [
            "G Boost\n",
            "Accuracy: 0.8886292834890965\n",
            "              precision    recall  f1-score   support\n",
            "\n",
            "        fake   0.869427  0.899506  0.884211       607\n",
            "        real   0.907012  0.878877  0.892723       677\n",
            "\n",
            "    accuracy                       0.888629      1284\n",
            "   macro avg   0.888219  0.889192  0.888467      1284\n",
            "weighted avg   0.889244  0.888629  0.888699      1284\n",
            "\n"
          ]
        }
      ],
      "source": [
        "# G Boost\n",
        "print(\"G Boost\")\n",
        "model = GradientBoostingClassifier()\n",
        "model.fit(tfidf_train,y_train.values.ravel())\n",
        "y_pred = model.predict(tfidf_test)\n",
        "print(\"Accuracy:\", metrics.accuracy_score(y_test, y_pred))\n",
        "print(classification_report(y_test, y_pred, digits=6))"
      ]
    },
    {
      "cell_type": "code",
      "execution_count": null,
      "id": "8f6fc3f7",
      "metadata": {
        "id": "8f6fc3f7",
        "outputId": "89f004a8-a0a3-4771-b43d-6005ba0eff03"
      },
      "outputs": [
        {
          "name": "stdout",
          "output_type": "stream",
          "text": [
            "Stochastic Gradient Descent\n",
            "Accuracy: 0.9548286604361371\n",
            "              precision    recall  f1-score   support\n",
            "\n",
            "        fake   0.969231  0.934102  0.951342       607\n",
            "        real   0.942775  0.973412  0.957849       677\n",
            "\n",
            "    accuracy                       0.954829      1284\n",
            "   macro avg   0.956003  0.953757  0.954596      1284\n",
            "weighted avg   0.955282  0.954829  0.954773      1284\n",
            "\n"
          ]
        }
      ],
      "source": [
        "# Stochastic Gradient Descent\n",
        "print(\"Stochastic Gradient Descent\")\n",
        "sgd = SGDClassifier()\n",
        "sgd.fit(tfidf_train,y_train.values.ravel())\n",
        "y_pred = sgd.predict(tfidf_test)\n",
        "print(\"Accuracy:\", metrics.accuracy_score(y_test, y_pred))\n",
        "print(classification_report(y_test, y_pred, digits=6))\n"
      ]
    },
    {
      "cell_type": "code",
      "execution_count": null,
      "id": "8f290058",
      "metadata": {
        "id": "8f290058",
        "outputId": "9c4e7ca5-8e97-4411-85f5-4b444ab6e7f5"
      },
      "outputs": [
        {
          "name": "stdout",
          "output_type": "stream",
          "text": [
            "G Boost\n",
            "Accuracy: 0.8886292834890965\n",
            "              precision    recall  f1-score   support\n",
            "\n",
            "        fake   0.869427  0.899506  0.884211       607\n",
            "        real   0.907012  0.878877  0.892723       677\n",
            "\n",
            "    accuracy                       0.888629      1284\n",
            "   macro avg   0.888219  0.889192  0.888467      1284\n",
            "weighted avg   0.889244  0.888629  0.888699      1284\n",
            "\n"
          ]
        }
      ],
      "source": [
        "# G Boost\n",
        "print(\"G Boost\")\n",
        "model = GradientBoostingClassifier()\n",
        "model.fit(tfidf_train,y_train.values.ravel())\n",
        "y_pred = model.predict(tfidf_test)\n",
        "print(\"Accuracy:\", metrics.accuracy_score(y_test, y_pred))\n",
        "print(classification_report(y_test, y_pred, digits=6))"
      ]
    },
    {
      "cell_type": "code",
      "execution_count": null,
      "id": "b6e1a598",
      "metadata": {
        "id": "b6e1a598",
        "outputId": "85bcf3f0-e1f1-4ffd-cfdb-8040ceb6da06"
      },
      "outputs": [
        {
          "name": "stdout",
          "output_type": "stream",
          "text": [
            "Voting Classifier\n",
            "0.9571651090342679\n",
            "              precision    recall  f1-score   support\n",
            "\n",
            "        fake   0.869427  0.899506  0.884211       607\n",
            "        real   0.907012  0.878877  0.892723       677\n",
            "\n",
            "    accuracy                       0.888629      1284\n",
            "   macro avg   0.888219  0.889192  0.888467      1284\n",
            "weighted avg   0.889244  0.888629  0.888699      1284\n",
            "\n"
          ]
        }
      ],
      "source": [
        "# Voting Classifier\n",
        "print(\"Voting Classifier\")\n",
        "#lr = LogisticRegression()\n",
        "mlp = MLPClassifier()\n",
        "rf = RandomForestClassifier()\n",
        "sgd = SGDClassifier()\n",
        "#svm = SVC(kernel='poly', degree=2)\n",
        "evc = VotingClassifier(estimators=[\n",
        "     ('mlp', mlp), ('rf', rf), ('sgd', sgd)], voting='hard')\n",
        "evc.fit(tfidf_train, y_train)\n",
        "print(evc.score(tfidf_test, y_test))\n",
        "print(classification_report(y_test, y_pred, digits=6))"
      ]
    },
    {
      "cell_type": "code",
      "execution_count": null,
      "id": "ea4c4f89",
      "metadata": {
        "id": "ea4c4f89",
        "outputId": "88b4223e-0f1b-45fc-d064-18d4768903f2"
      },
      "outputs": [
        {
          "name": "stdout",
          "output_type": "stream",
          "text": [
            "Voting Classifier\n",
            "0.9143302180685359\n",
            "              precision    recall  f1-score   support\n",
            "\n",
            "        fake   0.869427  0.899506  0.884211       607\n",
            "        real   0.907012  0.878877  0.892723       677\n",
            "\n",
            "    accuracy                       0.888629      1284\n",
            "   macro avg   0.888219  0.889192  0.888467      1284\n",
            "weighted avg   0.889244  0.888629  0.888699      1284\n",
            "\n"
          ]
        }
      ],
      "source": [
        "# Voting Classifier\n",
        "print(\"Voting Classifier\")\n",
        "#lr = LogisticRegression()\n",
        "passive = PassiveAggressiveClassifier()\n",
        "dt = DecisionTreeClassifier()\n",
        "rf = RandomForestClassifier()\n",
        "rp = BaggingClassifier()\n",
        "#svm = SVC(kernel='poly', degree=2)\n",
        "evc = VotingClassifier(estimators=[\n",
        "     ('dt', dt), ('rf', rf), ('rp', rp)], voting='hard')\n",
        "evc.fit(tfidf_train, y_train)\n",
        "print(evc.score(tfidf_test, y_test))\n",
        "print(classification_report(y_test, y_pred, digits=6))"
      ]
    },
    {
      "cell_type": "code",
      "execution_count": null,
      "id": "46b704f1",
      "metadata": {
        "id": "46b704f1",
        "outputId": "7e31f74e-8d7d-40d2-908f-7c9eab751caf"
      },
      "outputs": [
        {
          "name": "stdout",
          "output_type": "stream",
          "text": [
            "Hard Voting\n",
            "0.9587227414330218\n",
            "              precision    recall  f1-score   support\n",
            "\n",
            "        fake   0.869427  0.899506  0.884211       607\n",
            "        real   0.907012  0.878877  0.892723       677\n",
            "\n",
            "    accuracy                       0.888629      1284\n",
            "   macro avg   0.888219  0.889192  0.888467      1284\n",
            "weighted avg   0.889244  0.888629  0.888699      1284\n",
            "\n"
          ]
        }
      ],
      "source": [
        "# Voting Classifier\n",
        "print(\"Hard Voting\")\n",
        "\n",
        "#lr = LogisticRegression()\n",
        "mlp = MLPClassifier()\n",
        "rf = RandomForestClassifier()\n",
        "sgd = SGDClassifier()\n",
        "\n",
        "#svm = SVC(kernel='poly', degree=2)\n",
        "evc = VotingClassifier(estimators=[\n",
        "     ('mlp', mlp), ('rf', rf), ('sgd', sgd)], voting='hard')\n",
        "evc.fit(tfidf_train, y_train)\n",
        "print(evc.score(tfidf_test, y_test))\n",
        "print(classification_report(y_test, y_pred, digits=6))\n"
      ]
    },
    {
      "cell_type": "code",
      "execution_count": null,
      "id": "54300ed2",
      "metadata": {
        "id": "54300ed2",
        "outputId": "078922b9-c6d9-4069-f9d4-2075e5999545"
      },
      "outputs": [
        {
          "name": "stdout",
          "output_type": "stream",
          "text": [
            "Soft Voting\n",
            "0.9602803738317757\n",
            "              precision    recall  f1-score   support\n",
            "\n",
            "        fake   0.869427  0.899506  0.884211       607\n",
            "        real   0.907012  0.878877  0.892723       677\n",
            "\n",
            "    accuracy                       0.888629      1284\n",
            "   macro avg   0.888219  0.889192  0.888467      1284\n",
            "weighted avg   0.889244  0.888629  0.888699      1284\n",
            "\n"
          ]
        }
      ],
      "source": [
        "# Voting Classifier with voting options as soft\n",
        "#\n",
        "\n",
        "print(\"Soft Voting\")\n",
        "\n",
        "#lr = LogisticRegression()\n",
        "mlp = MLPClassifier()\n",
        "rf = RandomForestClassifier()\n",
        "sgd = SGDClassifier()\n",
        "\n",
        "evc2 = VotingClassifier(estimators=[\n",
        "         ('mlp', mlp), ('rf', rf), ('sgd', sgd)], voting='soft', weights=[2, 1])\n",
        "#\n",
        "# Fit the model with voting classifier\n",
        "#\n",
        "evc.fit(tfidf_train, y_train)\n",
        "print(evc.score(tfidf_test, y_test))\n",
        "print(classification_report(y_test, y_pred, digits=6))\n"
      ]
    },
    {
      "cell_type": "code",
      "execution_count": null,
      "id": "feb423f5",
      "metadata": {
        "id": "feb423f5"
      },
      "outputs": [],
      "source": []
    },
    {
      "cell_type": "code",
      "execution_count": null,
      "id": "1e715f35",
      "metadata": {
        "id": "1e715f35",
        "outputId": "93c3d269-a15a-43e5-a689-635a9665ec78"
      },
      "outputs": [
        {
          "name": "stdout",
          "output_type": "stream",
          "text": [
            "soft voting \n",
            "0.9602803738317757\n",
            "              precision    recall  f1-score   support\n",
            "\n",
            "        fake   0.869427  0.899506  0.884211       607\n",
            "        real   0.907012  0.878877  0.892723       677\n",
            "\n",
            "    accuracy                       0.888629      1284\n",
            "   macro avg   0.888219  0.889192  0.888467      1284\n",
            "weighted avg   0.889244  0.888629  0.888699      1284\n",
            "\n"
          ]
        }
      ],
      "source": [
        "print (\"soft voting \")\n",
        "\n",
        "KNN = KNeighborsClassifier()\n",
        "RF= RandomForestClassifier()\n",
        "#estimator.append(('DTC', DecisionTreeClassifier()))\n",
        "passive = PassiveAggressiveClassifier()\n",
        "clf = MultinomialNB()\n",
        "bag = BaggingClassifier()\n",
        "sgd = SGDClassifier()\n",
        "\n",
        "evc3 = VotingClassifier(estimators = [\n",
        "    ('KNN',KNN),('RF',RF),('passive',passive),('clf',clf),('bag',bag), ('sgd', sgd)], voting ='soft')\n",
        "\n",
        "evc3.fit(tfidf_train, y_train)\n",
        "print(evc.score(tfidf_test, y_test))\n",
        "print(classification_report(y_test, y_pred, digits=6))"
      ]
    },
    {
      "cell_type": "code",
      "execution_count": null,
      "id": "1ba61b1c",
      "metadata": {
        "id": "1ba61b1c"
      },
      "outputs": [],
      "source": []
    },
    {
      "cell_type": "code",
      "execution_count": null,
      "id": "48cc90dd",
      "metadata": {
        "id": "48cc90dd"
      },
      "outputs": [],
      "source": []
    },
    {
      "cell_type": "code",
      "execution_count": null,
      "id": "c3b9a9c1",
      "metadata": {
        "id": "c3b9a9c1"
      },
      "outputs": [],
      "source": []
    },
    {
      "cell_type": "code",
      "execution_count": null,
      "id": "219700f2",
      "metadata": {
        "id": "219700f2",
        "outputId": "821eb8f3-4e79-4414-bb4a-6534f16bd96b"
      },
      "outputs": [
        {
          "name": "stdout",
          "output_type": "stream",
          "text": [
            "soft voting \n",
            "0.9602803738317757\n",
            "              precision    recall  f1-score   support\n",
            "\n",
            "        fake   0.869427  0.899506  0.884211       607\n",
            "        real   0.907012  0.878877  0.892723       677\n",
            "\n",
            "    accuracy                       0.888629      1284\n",
            "   macro avg   0.888219  0.889192  0.888467      1284\n",
            "weighted avg   0.889244  0.888629  0.888699      1284\n",
            "\n"
          ]
        }
      ],
      "source": [
        "print (\"soft voting \")\n",
        "\n",
        "KNN = KNeighborsClassifier()\n",
        "RF= RandomForestClassifier()\n",
        "#estimator.append(('DTC', DecisionTreeClassifier()))\n",
        "passive = PassiveAggressiveClassifier()\n",
        "clf = MultinomialNB()\n",
        "bag = BaggingClassifier()\n",
        "#sgd = SGDClassifier()\n",
        "\n",
        "evc3 = VotingClassifier(estimators = [\n",
        "    ('KNN',KNN),('RF',RF),('passive',passive),('clf',clf),('bag',bag), ('sgd', sgd)], voting ='soft')\n",
        "\n",
        "evc3.fit(tfidf_train, y_train)\n",
        "print(evc.score(tfidf_test, y_test))\n",
        "print(classification_report(y_test, y_pred, digits=6))"
      ]
    },
    {
      "cell_type": "code",
      "execution_count": null,
      "id": "eb3c0efe",
      "metadata": {
        "id": "eb3c0efe",
        "outputId": "84bb13ae-08d9-49c6-d62c-2c68cf52b5fa"
      },
      "outputs": [
        {
          "name": "stdout",
          "output_type": "stream",
          "text": [
            "soft voting \n"
          ]
        },
        {
          "ename": "AttributeError",
          "evalue": "'PassiveAggressiveClassifier' object has no attribute 'predict_proba'",
          "output_type": "error",
          "traceback": [
            "\u001b[1;31m---------------------------------------------------------------------------\u001b[0m",
            "\u001b[1;31mAttributeError\u001b[0m                            Traceback (most recent call last)",
            "\u001b[1;32m<ipython-input-27-3896a909fbcf>\u001b[0m in \u001b[0;36m<module>\u001b[1;34m\u001b[0m\n\u001b[0;32m     13\u001b[0m \u001b[1;33m\u001b[0m\u001b[0m\n\u001b[0;32m     14\u001b[0m \u001b[0mevc4\u001b[0m\u001b[1;33m.\u001b[0m\u001b[0mfit\u001b[0m\u001b[1;33m(\u001b[0m\u001b[0mtfidf_train\u001b[0m\u001b[1;33m,\u001b[0m \u001b[0my_train\u001b[0m\u001b[1;33m)\u001b[0m\u001b[1;33m\u001b[0m\u001b[1;33m\u001b[0m\u001b[0m\n\u001b[1;32m---> 15\u001b[1;33m \u001b[0mprint\u001b[0m\u001b[1;33m(\u001b[0m\u001b[0mevc4\u001b[0m\u001b[1;33m.\u001b[0m\u001b[0mscore\u001b[0m\u001b[1;33m(\u001b[0m\u001b[0mtfidf_test\u001b[0m\u001b[1;33m,\u001b[0m \u001b[0my_test\u001b[0m\u001b[1;33m)\u001b[0m\u001b[1;33m)\u001b[0m\u001b[1;33m\u001b[0m\u001b[1;33m\u001b[0m\u001b[0m\n\u001b[0m\u001b[0;32m     16\u001b[0m \u001b[0mprint\u001b[0m\u001b[1;33m(\u001b[0m\u001b[0mclassification_report\u001b[0m\u001b[1;33m(\u001b[0m\u001b[0my_test\u001b[0m\u001b[1;33m,\u001b[0m \u001b[0my_pred\u001b[0m\u001b[1;33m,\u001b[0m \u001b[0mdigits\u001b[0m\u001b[1;33m=\u001b[0m\u001b[1;36m6\u001b[0m\u001b[1;33m)\u001b[0m\u001b[1;33m)\u001b[0m\u001b[1;33m\u001b[0m\u001b[1;33m\u001b[0m\u001b[0m\n",
            "\u001b[1;32m~\\anaconda3\\lib\\site-packages\\sklearn\\base.py\u001b[0m in \u001b[0;36mscore\u001b[1;34m(self, X, y, sample_weight)\u001b[0m\n\u001b[0;32m    498\u001b[0m         \"\"\"\n\u001b[0;32m    499\u001b[0m         \u001b[1;32mfrom\u001b[0m \u001b[1;33m.\u001b[0m\u001b[0mmetrics\u001b[0m \u001b[1;32mimport\u001b[0m \u001b[0maccuracy_score\u001b[0m\u001b[1;33m\u001b[0m\u001b[1;33m\u001b[0m\u001b[0m\n\u001b[1;32m--> 500\u001b[1;33m         \u001b[1;32mreturn\u001b[0m \u001b[0maccuracy_score\u001b[0m\u001b[1;33m(\u001b[0m\u001b[0my\u001b[0m\u001b[1;33m,\u001b[0m \u001b[0mself\u001b[0m\u001b[1;33m.\u001b[0m\u001b[0mpredict\u001b[0m\u001b[1;33m(\u001b[0m\u001b[0mX\u001b[0m\u001b[1;33m)\u001b[0m\u001b[1;33m,\u001b[0m \u001b[0msample_weight\u001b[0m\u001b[1;33m=\u001b[0m\u001b[0msample_weight\u001b[0m\u001b[1;33m)\u001b[0m\u001b[1;33m\u001b[0m\u001b[1;33m\u001b[0m\u001b[0m\n\u001b[0m\u001b[0;32m    501\u001b[0m \u001b[1;33m\u001b[0m\u001b[0m\n\u001b[0;32m    502\u001b[0m     \u001b[1;32mdef\u001b[0m \u001b[0m_more_tags\u001b[0m\u001b[1;33m(\u001b[0m\u001b[0mself\u001b[0m\u001b[1;33m)\u001b[0m\u001b[1;33m:\u001b[0m\u001b[1;33m\u001b[0m\u001b[1;33m\u001b[0m\u001b[0m\n",
            "\u001b[1;32m~\\anaconda3\\lib\\site-packages\\sklearn\\ensemble\\_voting.py\u001b[0m in \u001b[0;36mpredict\u001b[1;34m(self, X)\u001b[0m\n\u001b[0;32m    307\u001b[0m         \u001b[0mcheck_is_fitted\u001b[0m\u001b[1;33m(\u001b[0m\u001b[0mself\u001b[0m\u001b[1;33m)\u001b[0m\u001b[1;33m\u001b[0m\u001b[1;33m\u001b[0m\u001b[0m\n\u001b[0;32m    308\u001b[0m         \u001b[1;32mif\u001b[0m \u001b[0mself\u001b[0m\u001b[1;33m.\u001b[0m\u001b[0mvoting\u001b[0m \u001b[1;33m==\u001b[0m \u001b[1;34m'soft'\u001b[0m\u001b[1;33m:\u001b[0m\u001b[1;33m\u001b[0m\u001b[1;33m\u001b[0m\u001b[0m\n\u001b[1;32m--> 309\u001b[1;33m             \u001b[0mmaj\u001b[0m \u001b[1;33m=\u001b[0m \u001b[0mnp\u001b[0m\u001b[1;33m.\u001b[0m\u001b[0margmax\u001b[0m\u001b[1;33m(\u001b[0m\u001b[0mself\u001b[0m\u001b[1;33m.\u001b[0m\u001b[0mpredict_proba\u001b[0m\u001b[1;33m(\u001b[0m\u001b[0mX\u001b[0m\u001b[1;33m)\u001b[0m\u001b[1;33m,\u001b[0m \u001b[0maxis\u001b[0m\u001b[1;33m=\u001b[0m\u001b[1;36m1\u001b[0m\u001b[1;33m)\u001b[0m\u001b[1;33m\u001b[0m\u001b[1;33m\u001b[0m\u001b[0m\n\u001b[0m\u001b[0;32m    310\u001b[0m \u001b[1;33m\u001b[0m\u001b[0m\n\u001b[0;32m    311\u001b[0m         \u001b[1;32melse\u001b[0m\u001b[1;33m:\u001b[0m  \u001b[1;31m# 'hard' voting\u001b[0m\u001b[1;33m\u001b[0m\u001b[1;33m\u001b[0m\u001b[0m\n",
            "\u001b[1;32m~\\anaconda3\\lib\\site-packages\\sklearn\\ensemble\\_voting.py\u001b[0m in \u001b[0;36m_predict_proba\u001b[1;34m(self, X)\u001b[0m\n\u001b[0;32m    327\u001b[0m         \u001b[1;34m\"\"\"Predict class probabilities for X in 'soft' voting.\"\"\"\u001b[0m\u001b[1;33m\u001b[0m\u001b[1;33m\u001b[0m\u001b[0m\n\u001b[0;32m    328\u001b[0m         \u001b[0mcheck_is_fitted\u001b[0m\u001b[1;33m(\u001b[0m\u001b[0mself\u001b[0m\u001b[1;33m)\u001b[0m\u001b[1;33m\u001b[0m\u001b[1;33m\u001b[0m\u001b[0m\n\u001b[1;32m--> 329\u001b[1;33m         avg = np.average(self._collect_probas(X), axis=0,\n\u001b[0m\u001b[0;32m    330\u001b[0m                          weights=self._weights_not_none)\n\u001b[0;32m    331\u001b[0m         \u001b[1;32mreturn\u001b[0m \u001b[0mavg\u001b[0m\u001b[1;33m\u001b[0m\u001b[1;33m\u001b[0m\u001b[0m\n",
            "\u001b[1;32m~\\anaconda3\\lib\\site-packages\\sklearn\\ensemble\\_voting.py\u001b[0m in \u001b[0;36m_collect_probas\u001b[1;34m(self, X)\u001b[0m\n\u001b[0;32m    322\u001b[0m     \u001b[1;32mdef\u001b[0m \u001b[0m_collect_probas\u001b[0m\u001b[1;33m(\u001b[0m\u001b[0mself\u001b[0m\u001b[1;33m,\u001b[0m \u001b[0mX\u001b[0m\u001b[1;33m)\u001b[0m\u001b[1;33m:\u001b[0m\u001b[1;33m\u001b[0m\u001b[1;33m\u001b[0m\u001b[0m\n\u001b[0;32m    323\u001b[0m         \u001b[1;34m\"\"\"Collect results from clf.predict calls.\"\"\"\u001b[0m\u001b[1;33m\u001b[0m\u001b[1;33m\u001b[0m\u001b[0m\n\u001b[1;32m--> 324\u001b[1;33m         \u001b[1;32mreturn\u001b[0m \u001b[0mnp\u001b[0m\u001b[1;33m.\u001b[0m\u001b[0masarray\u001b[0m\u001b[1;33m(\u001b[0m\u001b[1;33m[\u001b[0m\u001b[0mclf\u001b[0m\u001b[1;33m.\u001b[0m\u001b[0mpredict_proba\u001b[0m\u001b[1;33m(\u001b[0m\u001b[0mX\u001b[0m\u001b[1;33m)\u001b[0m \u001b[1;32mfor\u001b[0m \u001b[0mclf\u001b[0m \u001b[1;32min\u001b[0m \u001b[0mself\u001b[0m\u001b[1;33m.\u001b[0m\u001b[0mestimators_\u001b[0m\u001b[1;33m]\u001b[0m\u001b[1;33m)\u001b[0m\u001b[1;33m\u001b[0m\u001b[1;33m\u001b[0m\u001b[0m\n\u001b[0m\u001b[0;32m    325\u001b[0m \u001b[1;33m\u001b[0m\u001b[0m\n\u001b[0;32m    326\u001b[0m     \u001b[1;32mdef\u001b[0m \u001b[0m_predict_proba\u001b[0m\u001b[1;33m(\u001b[0m\u001b[0mself\u001b[0m\u001b[1;33m,\u001b[0m \u001b[0mX\u001b[0m\u001b[1;33m)\u001b[0m\u001b[1;33m:\u001b[0m\u001b[1;33m\u001b[0m\u001b[1;33m\u001b[0m\u001b[0m\n",
            "\u001b[1;32m~\\anaconda3\\lib\\site-packages\\sklearn\\ensemble\\_voting.py\u001b[0m in \u001b[0;36m<listcomp>\u001b[1;34m(.0)\u001b[0m\n\u001b[0;32m    322\u001b[0m     \u001b[1;32mdef\u001b[0m \u001b[0m_collect_probas\u001b[0m\u001b[1;33m(\u001b[0m\u001b[0mself\u001b[0m\u001b[1;33m,\u001b[0m \u001b[0mX\u001b[0m\u001b[1;33m)\u001b[0m\u001b[1;33m:\u001b[0m\u001b[1;33m\u001b[0m\u001b[1;33m\u001b[0m\u001b[0m\n\u001b[0;32m    323\u001b[0m         \u001b[1;34m\"\"\"Collect results from clf.predict calls.\"\"\"\u001b[0m\u001b[1;33m\u001b[0m\u001b[1;33m\u001b[0m\u001b[0m\n\u001b[1;32m--> 324\u001b[1;33m         \u001b[1;32mreturn\u001b[0m \u001b[0mnp\u001b[0m\u001b[1;33m.\u001b[0m\u001b[0masarray\u001b[0m\u001b[1;33m(\u001b[0m\u001b[1;33m[\u001b[0m\u001b[0mclf\u001b[0m\u001b[1;33m.\u001b[0m\u001b[0mpredict_proba\u001b[0m\u001b[1;33m(\u001b[0m\u001b[0mX\u001b[0m\u001b[1;33m)\u001b[0m \u001b[1;32mfor\u001b[0m \u001b[0mclf\u001b[0m \u001b[1;32min\u001b[0m \u001b[0mself\u001b[0m\u001b[1;33m.\u001b[0m\u001b[0mestimators_\u001b[0m\u001b[1;33m]\u001b[0m\u001b[1;33m)\u001b[0m\u001b[1;33m\u001b[0m\u001b[1;33m\u001b[0m\u001b[0m\n\u001b[0m\u001b[0;32m    325\u001b[0m \u001b[1;33m\u001b[0m\u001b[0m\n\u001b[0;32m    326\u001b[0m     \u001b[1;32mdef\u001b[0m \u001b[0m_predict_proba\u001b[0m\u001b[1;33m(\u001b[0m\u001b[0mself\u001b[0m\u001b[1;33m,\u001b[0m \u001b[0mX\u001b[0m\u001b[1;33m)\u001b[0m\u001b[1;33m:\u001b[0m\u001b[1;33m\u001b[0m\u001b[1;33m\u001b[0m\u001b[0m\n",
            "\u001b[1;31mAttributeError\u001b[0m: 'PassiveAggressiveClassifier' object has no attribute 'predict_proba'"
          ]
        }
      ],
      "source": [
        "print (\"soft voting \")\n",
        "\n",
        "KNN = KNeighborsClassifier()\n",
        "RF= RandomForestClassifier()\n",
        "#estimator.append(('DTC', DecisionTreeClassifier()))\n",
        "passive = PassiveAggressiveClassifier()\n",
        "clf = MultinomialNB()\n",
        "#bag = BaggingClassifier()\n",
        "#sgd = SGDClassifier()\n",
        "\n",
        "evc4 = VotingClassifier(estimators = [\n",
        "    ('KNN',KNN),('RF',RF),('passive',passive),('clf',clf)], voting ='soft')\n",
        "\n",
        "evc4.fit(tfidf_train, y_train)\n",
        "print(evc4.score(tfidf_test, y_test))\n",
        "print(classification_report(y_test, y_pred, digits=6))"
      ]
    },
    {
      "cell_type": "code",
      "execution_count": null,
      "id": "585d8b42",
      "metadata": {
        "id": "585d8b42"
      },
      "outputs": [],
      "source": []
    }
  ],
  "metadata": {
    "kernelspec": {
      "display_name": "Python 3",
      "language": "python",
      "name": "python3"
    },
    "language_info": {
      "codemirror_mode": {
        "name": "ipython",
        "version": 3
      },
      "file_extension": ".py",
      "mimetype": "text/x-python",
      "name": "python",
      "nbconvert_exporter": "python",
      "pygments_lexer": "ipython3",
      "version": "3.8.8"
    },
    "colab": {
      "provenance": [],
      "include_colab_link": true
    }
  },
  "nbformat": 4,
  "nbformat_minor": 5
}